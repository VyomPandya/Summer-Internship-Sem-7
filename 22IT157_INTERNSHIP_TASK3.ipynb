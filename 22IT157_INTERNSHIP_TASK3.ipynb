{
  "nbformat": 4,
  "nbformat_minor": 0,
  "metadata": {
    "colab": {
      "provenance": [],
      "include_colab_link": true
    },
    "kernelspec": {
      "name": "python3",
      "display_name": "Python 3"
    },
    "language_info": {
      "name": "python"
    },
    "widgets": {
      "application/vnd.jupyter.widget-state+json": {
        "5df7f18a8826462794f806df922f93cf": {
          "model_module": "@jupyter-widgets/controls",
          "model_name": "HBoxModel",
          "model_module_version": "1.5.0",
          "state": {
            "_dom_classes": [],
            "_model_module": "@jupyter-widgets/controls",
            "_model_module_version": "1.5.0",
            "_model_name": "HBoxModel",
            "_view_count": null,
            "_view_module": "@jupyter-widgets/controls",
            "_view_module_version": "1.5.0",
            "_view_name": "HBoxView",
            "box_style": "",
            "children": [
              "IPY_MODEL_e042de0f4a474a1791fe86fe0bf201a4",
              "IPY_MODEL_fbba6c983d814826a40e848b24de115f",
              "IPY_MODEL_9481efa5be224e688bedd0e68f387839"
            ],
            "layout": "IPY_MODEL_1f143b73e1b344cdab5ac1782a945bbc"
          }
        },
        "e042de0f4a474a1791fe86fe0bf201a4": {
          "model_module": "@jupyter-widgets/controls",
          "model_name": "HTMLModel",
          "model_module_version": "1.5.0",
          "state": {
            "_dom_classes": [],
            "_model_module": "@jupyter-widgets/controls",
            "_model_module_version": "1.5.0",
            "_model_name": "HTMLModel",
            "_view_count": null,
            "_view_module": "@jupyter-widgets/controls",
            "_view_module_version": "1.5.0",
            "_view_name": "HTMLView",
            "description": "",
            "description_tooltip": null,
            "layout": "IPY_MODEL_55911db417404cb0b03f2b5bccb65ceb",
            "placeholder": "​",
            "style": "IPY_MODEL_f5391e09c90745c290571c8f6537ca43",
            "value": "Summarize dataset: 100%"
          }
        },
        "fbba6c983d814826a40e848b24de115f": {
          "model_module": "@jupyter-widgets/controls",
          "model_name": "FloatProgressModel",
          "model_module_version": "1.5.0",
          "state": {
            "_dom_classes": [],
            "_model_module": "@jupyter-widgets/controls",
            "_model_module_version": "1.5.0",
            "_model_name": "FloatProgressModel",
            "_view_count": null,
            "_view_module": "@jupyter-widgets/controls",
            "_view_module_version": "1.5.0",
            "_view_name": "ProgressView",
            "bar_style": "success",
            "description": "",
            "description_tooltip": null,
            "layout": "IPY_MODEL_239182e77ebe4a4a8cdb9a0ac5b4d860",
            "max": 5,
            "min": 0,
            "orientation": "horizontal",
            "style": "IPY_MODEL_7c0cddae0ded4850950b750894965beb",
            "value": 5
          }
        },
        "9481efa5be224e688bedd0e68f387839": {
          "model_module": "@jupyter-widgets/controls",
          "model_name": "HTMLModel",
          "model_module_version": "1.5.0",
          "state": {
            "_dom_classes": [],
            "_model_module": "@jupyter-widgets/controls",
            "_model_module_version": "1.5.0",
            "_model_name": "HTMLModel",
            "_view_count": null,
            "_view_module": "@jupyter-widgets/controls",
            "_view_module_version": "1.5.0",
            "_view_name": "HTMLView",
            "description": "",
            "description_tooltip": null,
            "layout": "IPY_MODEL_b786e81a8897442c9894fa25b2a96111",
            "placeholder": "​",
            "style": "IPY_MODEL_24f3a92b174b41d99f784e93be56b5ca",
            "value": " 27/27 [00:02&lt;00:00,  7.66it/s, Completed]"
          }
        },
        "1f143b73e1b344cdab5ac1782a945bbc": {
          "model_module": "@jupyter-widgets/base",
          "model_name": "LayoutModel",
          "model_module_version": "1.2.0",
          "state": {
            "_model_module": "@jupyter-widgets/base",
            "_model_module_version": "1.2.0",
            "_model_name": "LayoutModel",
            "_view_count": null,
            "_view_module": "@jupyter-widgets/base",
            "_view_module_version": "1.2.0",
            "_view_name": "LayoutView",
            "align_content": null,
            "align_items": null,
            "align_self": null,
            "border": null,
            "bottom": null,
            "display": null,
            "flex": null,
            "flex_flow": null,
            "grid_area": null,
            "grid_auto_columns": null,
            "grid_auto_flow": null,
            "grid_auto_rows": null,
            "grid_column": null,
            "grid_gap": null,
            "grid_row": null,
            "grid_template_areas": null,
            "grid_template_columns": null,
            "grid_template_rows": null,
            "height": null,
            "justify_content": null,
            "justify_items": null,
            "left": null,
            "margin": null,
            "max_height": null,
            "max_width": null,
            "min_height": null,
            "min_width": null,
            "object_fit": null,
            "object_position": null,
            "order": null,
            "overflow": null,
            "overflow_x": null,
            "overflow_y": null,
            "padding": null,
            "right": null,
            "top": null,
            "visibility": null,
            "width": null
          }
        },
        "55911db417404cb0b03f2b5bccb65ceb": {
          "model_module": "@jupyter-widgets/base",
          "model_name": "LayoutModel",
          "model_module_version": "1.2.0",
          "state": {
            "_model_module": "@jupyter-widgets/base",
            "_model_module_version": "1.2.0",
            "_model_name": "LayoutModel",
            "_view_count": null,
            "_view_module": "@jupyter-widgets/base",
            "_view_module_version": "1.2.0",
            "_view_name": "LayoutView",
            "align_content": null,
            "align_items": null,
            "align_self": null,
            "border": null,
            "bottom": null,
            "display": null,
            "flex": null,
            "flex_flow": null,
            "grid_area": null,
            "grid_auto_columns": null,
            "grid_auto_flow": null,
            "grid_auto_rows": null,
            "grid_column": null,
            "grid_gap": null,
            "grid_row": null,
            "grid_template_areas": null,
            "grid_template_columns": null,
            "grid_template_rows": null,
            "height": null,
            "justify_content": null,
            "justify_items": null,
            "left": null,
            "margin": null,
            "max_height": null,
            "max_width": null,
            "min_height": null,
            "min_width": null,
            "object_fit": null,
            "object_position": null,
            "order": null,
            "overflow": null,
            "overflow_x": null,
            "overflow_y": null,
            "padding": null,
            "right": null,
            "top": null,
            "visibility": null,
            "width": null
          }
        },
        "f5391e09c90745c290571c8f6537ca43": {
          "model_module": "@jupyter-widgets/controls",
          "model_name": "DescriptionStyleModel",
          "model_module_version": "1.5.0",
          "state": {
            "_model_module": "@jupyter-widgets/controls",
            "_model_module_version": "1.5.0",
            "_model_name": "DescriptionStyleModel",
            "_view_count": null,
            "_view_module": "@jupyter-widgets/base",
            "_view_module_version": "1.2.0",
            "_view_name": "StyleView",
            "description_width": ""
          }
        },
        "239182e77ebe4a4a8cdb9a0ac5b4d860": {
          "model_module": "@jupyter-widgets/base",
          "model_name": "LayoutModel",
          "model_module_version": "1.2.0",
          "state": {
            "_model_module": "@jupyter-widgets/base",
            "_model_module_version": "1.2.0",
            "_model_name": "LayoutModel",
            "_view_count": null,
            "_view_module": "@jupyter-widgets/base",
            "_view_module_version": "1.2.0",
            "_view_name": "LayoutView",
            "align_content": null,
            "align_items": null,
            "align_self": null,
            "border": null,
            "bottom": null,
            "display": null,
            "flex": null,
            "flex_flow": null,
            "grid_area": null,
            "grid_auto_columns": null,
            "grid_auto_flow": null,
            "grid_auto_rows": null,
            "grid_column": null,
            "grid_gap": null,
            "grid_row": null,
            "grid_template_areas": null,
            "grid_template_columns": null,
            "grid_template_rows": null,
            "height": null,
            "justify_content": null,
            "justify_items": null,
            "left": null,
            "margin": null,
            "max_height": null,
            "max_width": null,
            "min_height": null,
            "min_width": null,
            "object_fit": null,
            "object_position": null,
            "order": null,
            "overflow": null,
            "overflow_x": null,
            "overflow_y": null,
            "padding": null,
            "right": null,
            "top": null,
            "visibility": null,
            "width": null
          }
        },
        "7c0cddae0ded4850950b750894965beb": {
          "model_module": "@jupyter-widgets/controls",
          "model_name": "ProgressStyleModel",
          "model_module_version": "1.5.0",
          "state": {
            "_model_module": "@jupyter-widgets/controls",
            "_model_module_version": "1.5.0",
            "_model_name": "ProgressStyleModel",
            "_view_count": null,
            "_view_module": "@jupyter-widgets/base",
            "_view_module_version": "1.2.0",
            "_view_name": "StyleView",
            "bar_color": null,
            "description_width": ""
          }
        },
        "b786e81a8897442c9894fa25b2a96111": {
          "model_module": "@jupyter-widgets/base",
          "model_name": "LayoutModel",
          "model_module_version": "1.2.0",
          "state": {
            "_model_module": "@jupyter-widgets/base",
            "_model_module_version": "1.2.0",
            "_model_name": "LayoutModel",
            "_view_count": null,
            "_view_module": "@jupyter-widgets/base",
            "_view_module_version": "1.2.0",
            "_view_name": "LayoutView",
            "align_content": null,
            "align_items": null,
            "align_self": null,
            "border": null,
            "bottom": null,
            "display": null,
            "flex": null,
            "flex_flow": null,
            "grid_area": null,
            "grid_auto_columns": null,
            "grid_auto_flow": null,
            "grid_auto_rows": null,
            "grid_column": null,
            "grid_gap": null,
            "grid_row": null,
            "grid_template_areas": null,
            "grid_template_columns": null,
            "grid_template_rows": null,
            "height": null,
            "justify_content": null,
            "justify_items": null,
            "left": null,
            "margin": null,
            "max_height": null,
            "max_width": null,
            "min_height": null,
            "min_width": null,
            "object_fit": null,
            "object_position": null,
            "order": null,
            "overflow": null,
            "overflow_x": null,
            "overflow_y": null,
            "padding": null,
            "right": null,
            "top": null,
            "visibility": null,
            "width": null
          }
        },
        "24f3a92b174b41d99f784e93be56b5ca": {
          "model_module": "@jupyter-widgets/controls",
          "model_name": "DescriptionStyleModel",
          "model_module_version": "1.5.0",
          "state": {
            "_model_module": "@jupyter-widgets/controls",
            "_model_module_version": "1.5.0",
            "_model_name": "DescriptionStyleModel",
            "_view_count": null,
            "_view_module": "@jupyter-widgets/base",
            "_view_module_version": "1.2.0",
            "_view_name": "StyleView",
            "description_width": ""
          }
        },
        "d212f3c1e82447eab33a5c30204e2c82": {
          "model_module": "@jupyter-widgets/controls",
          "model_name": "HBoxModel",
          "model_module_version": "1.5.0",
          "state": {
            "_dom_classes": [],
            "_model_module": "@jupyter-widgets/controls",
            "_model_module_version": "1.5.0",
            "_model_name": "HBoxModel",
            "_view_count": null,
            "_view_module": "@jupyter-widgets/controls",
            "_view_module_version": "1.5.0",
            "_view_name": "HBoxView",
            "box_style": "",
            "children": [
              "IPY_MODEL_f341316db1cf44df863952e51463624b",
              "IPY_MODEL_b90c86b002b74f56a8bbeaa1f961e01c",
              "IPY_MODEL_cd8bdd2a5e624a8aa7eed13e131ee94d"
            ],
            "layout": "IPY_MODEL_fbbaed4127b04ea0b231894669a02060"
          }
        },
        "f341316db1cf44df863952e51463624b": {
          "model_module": "@jupyter-widgets/controls",
          "model_name": "HTMLModel",
          "model_module_version": "1.5.0",
          "state": {
            "_dom_classes": [],
            "_model_module": "@jupyter-widgets/controls",
            "_model_module_version": "1.5.0",
            "_model_name": "HTMLModel",
            "_view_count": null,
            "_view_module": "@jupyter-widgets/controls",
            "_view_module_version": "1.5.0",
            "_view_name": "HTMLView",
            "description": "",
            "description_tooltip": null,
            "layout": "IPY_MODEL_881c8d2c80c44be692936d57a9684087",
            "placeholder": "​",
            "style": "IPY_MODEL_1f15a399947a4fcea49a98e6d5ebb53b",
            "value": "Generate report structure: 100%"
          }
        },
        "b90c86b002b74f56a8bbeaa1f961e01c": {
          "model_module": "@jupyter-widgets/controls",
          "model_name": "FloatProgressModel",
          "model_module_version": "1.5.0",
          "state": {
            "_dom_classes": [],
            "_model_module": "@jupyter-widgets/controls",
            "_model_module_version": "1.5.0",
            "_model_name": "FloatProgressModel",
            "_view_count": null,
            "_view_module": "@jupyter-widgets/controls",
            "_view_module_version": "1.5.0",
            "_view_name": "ProgressView",
            "bar_style": "success",
            "description": "",
            "description_tooltip": null,
            "layout": "IPY_MODEL_924a3ddc2dee4d11be6fe59ceb7ce485",
            "max": 1,
            "min": 0,
            "orientation": "horizontal",
            "style": "IPY_MODEL_e4372efc510b45b9b2f49fcfc6b33d8c",
            "value": 1
          }
        },
        "cd8bdd2a5e624a8aa7eed13e131ee94d": {
          "model_module": "@jupyter-widgets/controls",
          "model_name": "HTMLModel",
          "model_module_version": "1.5.0",
          "state": {
            "_dom_classes": [],
            "_model_module": "@jupyter-widgets/controls",
            "_model_module_version": "1.5.0",
            "_model_name": "HTMLModel",
            "_view_count": null,
            "_view_module": "@jupyter-widgets/controls",
            "_view_module_version": "1.5.0",
            "_view_name": "HTMLView",
            "description": "",
            "description_tooltip": null,
            "layout": "IPY_MODEL_c487d5bcfacb404b9b52bb44a19ab4a0",
            "placeholder": "​",
            "style": "IPY_MODEL_5b45aa34969345f3a8af10035d25c28e",
            "value": " 1/1 [00:05&lt;00:00,  5.20s/it]"
          }
        },
        "fbbaed4127b04ea0b231894669a02060": {
          "model_module": "@jupyter-widgets/base",
          "model_name": "LayoutModel",
          "model_module_version": "1.2.0",
          "state": {
            "_model_module": "@jupyter-widgets/base",
            "_model_module_version": "1.2.0",
            "_model_name": "LayoutModel",
            "_view_count": null,
            "_view_module": "@jupyter-widgets/base",
            "_view_module_version": "1.2.0",
            "_view_name": "LayoutView",
            "align_content": null,
            "align_items": null,
            "align_self": null,
            "border": null,
            "bottom": null,
            "display": null,
            "flex": null,
            "flex_flow": null,
            "grid_area": null,
            "grid_auto_columns": null,
            "grid_auto_flow": null,
            "grid_auto_rows": null,
            "grid_column": null,
            "grid_gap": null,
            "grid_row": null,
            "grid_template_areas": null,
            "grid_template_columns": null,
            "grid_template_rows": null,
            "height": null,
            "justify_content": null,
            "justify_items": null,
            "left": null,
            "margin": null,
            "max_height": null,
            "max_width": null,
            "min_height": null,
            "min_width": null,
            "object_fit": null,
            "object_position": null,
            "order": null,
            "overflow": null,
            "overflow_x": null,
            "overflow_y": null,
            "padding": null,
            "right": null,
            "top": null,
            "visibility": null,
            "width": null
          }
        },
        "881c8d2c80c44be692936d57a9684087": {
          "model_module": "@jupyter-widgets/base",
          "model_name": "LayoutModel",
          "model_module_version": "1.2.0",
          "state": {
            "_model_module": "@jupyter-widgets/base",
            "_model_module_version": "1.2.0",
            "_model_name": "LayoutModel",
            "_view_count": null,
            "_view_module": "@jupyter-widgets/base",
            "_view_module_version": "1.2.0",
            "_view_name": "LayoutView",
            "align_content": null,
            "align_items": null,
            "align_self": null,
            "border": null,
            "bottom": null,
            "display": null,
            "flex": null,
            "flex_flow": null,
            "grid_area": null,
            "grid_auto_columns": null,
            "grid_auto_flow": null,
            "grid_auto_rows": null,
            "grid_column": null,
            "grid_gap": null,
            "grid_row": null,
            "grid_template_areas": null,
            "grid_template_columns": null,
            "grid_template_rows": null,
            "height": null,
            "justify_content": null,
            "justify_items": null,
            "left": null,
            "margin": null,
            "max_height": null,
            "max_width": null,
            "min_height": null,
            "min_width": null,
            "object_fit": null,
            "object_position": null,
            "order": null,
            "overflow": null,
            "overflow_x": null,
            "overflow_y": null,
            "padding": null,
            "right": null,
            "top": null,
            "visibility": null,
            "width": null
          }
        },
        "1f15a399947a4fcea49a98e6d5ebb53b": {
          "model_module": "@jupyter-widgets/controls",
          "model_name": "DescriptionStyleModel",
          "model_module_version": "1.5.0",
          "state": {
            "_model_module": "@jupyter-widgets/controls",
            "_model_module_version": "1.5.0",
            "_model_name": "DescriptionStyleModel",
            "_view_count": null,
            "_view_module": "@jupyter-widgets/base",
            "_view_module_version": "1.2.0",
            "_view_name": "StyleView",
            "description_width": ""
          }
        },
        "924a3ddc2dee4d11be6fe59ceb7ce485": {
          "model_module": "@jupyter-widgets/base",
          "model_name": "LayoutModel",
          "model_module_version": "1.2.0",
          "state": {
            "_model_module": "@jupyter-widgets/base",
            "_model_module_version": "1.2.0",
            "_model_name": "LayoutModel",
            "_view_count": null,
            "_view_module": "@jupyter-widgets/base",
            "_view_module_version": "1.2.0",
            "_view_name": "LayoutView",
            "align_content": null,
            "align_items": null,
            "align_self": null,
            "border": null,
            "bottom": null,
            "display": null,
            "flex": null,
            "flex_flow": null,
            "grid_area": null,
            "grid_auto_columns": null,
            "grid_auto_flow": null,
            "grid_auto_rows": null,
            "grid_column": null,
            "grid_gap": null,
            "grid_row": null,
            "grid_template_areas": null,
            "grid_template_columns": null,
            "grid_template_rows": null,
            "height": null,
            "justify_content": null,
            "justify_items": null,
            "left": null,
            "margin": null,
            "max_height": null,
            "max_width": null,
            "min_height": null,
            "min_width": null,
            "object_fit": null,
            "object_position": null,
            "order": null,
            "overflow": null,
            "overflow_x": null,
            "overflow_y": null,
            "padding": null,
            "right": null,
            "top": null,
            "visibility": null,
            "width": null
          }
        },
        "e4372efc510b45b9b2f49fcfc6b33d8c": {
          "model_module": "@jupyter-widgets/controls",
          "model_name": "ProgressStyleModel",
          "model_module_version": "1.5.0",
          "state": {
            "_model_module": "@jupyter-widgets/controls",
            "_model_module_version": "1.5.0",
            "_model_name": "ProgressStyleModel",
            "_view_count": null,
            "_view_module": "@jupyter-widgets/base",
            "_view_module_version": "1.2.0",
            "_view_name": "StyleView",
            "bar_color": null,
            "description_width": ""
          }
        },
        "c487d5bcfacb404b9b52bb44a19ab4a0": {
          "model_module": "@jupyter-widgets/base",
          "model_name": "LayoutModel",
          "model_module_version": "1.2.0",
          "state": {
            "_model_module": "@jupyter-widgets/base",
            "_model_module_version": "1.2.0",
            "_model_name": "LayoutModel",
            "_view_count": null,
            "_view_module": "@jupyter-widgets/base",
            "_view_module_version": "1.2.0",
            "_view_name": "LayoutView",
            "align_content": null,
            "align_items": null,
            "align_self": null,
            "border": null,
            "bottom": null,
            "display": null,
            "flex": null,
            "flex_flow": null,
            "grid_area": null,
            "grid_auto_columns": null,
            "grid_auto_flow": null,
            "grid_auto_rows": null,
            "grid_column": null,
            "grid_gap": null,
            "grid_row": null,
            "grid_template_areas": null,
            "grid_template_columns": null,
            "grid_template_rows": null,
            "height": null,
            "justify_content": null,
            "justify_items": null,
            "left": null,
            "margin": null,
            "max_height": null,
            "max_width": null,
            "min_height": null,
            "min_width": null,
            "object_fit": null,
            "object_position": null,
            "order": null,
            "overflow": null,
            "overflow_x": null,
            "overflow_y": null,
            "padding": null,
            "right": null,
            "top": null,
            "visibility": null,
            "width": null
          }
        },
        "5b45aa34969345f3a8af10035d25c28e": {
          "model_module": "@jupyter-widgets/controls",
          "model_name": "DescriptionStyleModel",
          "model_module_version": "1.5.0",
          "state": {
            "_model_module": "@jupyter-widgets/controls",
            "_model_module_version": "1.5.0",
            "_model_name": "DescriptionStyleModel",
            "_view_count": null,
            "_view_module": "@jupyter-widgets/base",
            "_view_module_version": "1.2.0",
            "_view_name": "StyleView",
            "description_width": ""
          }
        },
        "e2db0b3cdaef46edbc0ff8bb97eb03c5": {
          "model_module": "@jupyter-widgets/controls",
          "model_name": "HBoxModel",
          "model_module_version": "1.5.0",
          "state": {
            "_dom_classes": [],
            "_model_module": "@jupyter-widgets/controls",
            "_model_module_version": "1.5.0",
            "_model_name": "HBoxModel",
            "_view_count": null,
            "_view_module": "@jupyter-widgets/controls",
            "_view_module_version": "1.5.0",
            "_view_name": "HBoxView",
            "box_style": "",
            "children": [
              "IPY_MODEL_b32f8e0fb6994b698a48d5ce5485f818",
              "IPY_MODEL_022a4ac46c844a9dbbe2f96cebb40c45",
              "IPY_MODEL_14b098081ede45f09a7d127ee49c6b68"
            ],
            "layout": "IPY_MODEL_bdf895cc1650445cbef2d36da7aeda40"
          }
        },
        "b32f8e0fb6994b698a48d5ce5485f818": {
          "model_module": "@jupyter-widgets/controls",
          "model_name": "HTMLModel",
          "model_module_version": "1.5.0",
          "state": {
            "_dom_classes": [],
            "_model_module": "@jupyter-widgets/controls",
            "_model_module_version": "1.5.0",
            "_model_name": "HTMLModel",
            "_view_count": null,
            "_view_module": "@jupyter-widgets/controls",
            "_view_module_version": "1.5.0",
            "_view_name": "HTMLView",
            "description": "",
            "description_tooltip": null,
            "layout": "IPY_MODEL_1e9bdadeee974ab9840e96882588140d",
            "placeholder": "​",
            "style": "IPY_MODEL_87fd56460b37497fbad8db86e39af5ba",
            "value": "Render HTML: 100%"
          }
        },
        "022a4ac46c844a9dbbe2f96cebb40c45": {
          "model_module": "@jupyter-widgets/controls",
          "model_name": "FloatProgressModel",
          "model_module_version": "1.5.0",
          "state": {
            "_dom_classes": [],
            "_model_module": "@jupyter-widgets/controls",
            "_model_module_version": "1.5.0",
            "_model_name": "FloatProgressModel",
            "_view_count": null,
            "_view_module": "@jupyter-widgets/controls",
            "_view_module_version": "1.5.0",
            "_view_name": "ProgressView",
            "bar_style": "success",
            "description": "",
            "description_tooltip": null,
            "layout": "IPY_MODEL_9b9bd2ec66a4429790cb2af550fb4398",
            "max": 1,
            "min": 0,
            "orientation": "horizontal",
            "style": "IPY_MODEL_df21560330764cd5aaa5b954b068d652",
            "value": 1
          }
        },
        "14b098081ede45f09a7d127ee49c6b68": {
          "model_module": "@jupyter-widgets/controls",
          "model_name": "HTMLModel",
          "model_module_version": "1.5.0",
          "state": {
            "_dom_classes": [],
            "_model_module": "@jupyter-widgets/controls",
            "_model_module_version": "1.5.0",
            "_model_name": "HTMLModel",
            "_view_count": null,
            "_view_module": "@jupyter-widgets/controls",
            "_view_module_version": "1.5.0",
            "_view_name": "HTMLView",
            "description": "",
            "description_tooltip": null,
            "layout": "IPY_MODEL_3605ef00abba4b2796dd65c3dc8e7880",
            "placeholder": "​",
            "style": "IPY_MODEL_f0de5374b57342f3917c6a79c7c5188d",
            "value": " 1/1 [00:00&lt;00:00,  1.34it/s]"
          }
        },
        "bdf895cc1650445cbef2d36da7aeda40": {
          "model_module": "@jupyter-widgets/base",
          "model_name": "LayoutModel",
          "model_module_version": "1.2.0",
          "state": {
            "_model_module": "@jupyter-widgets/base",
            "_model_module_version": "1.2.0",
            "_model_name": "LayoutModel",
            "_view_count": null,
            "_view_module": "@jupyter-widgets/base",
            "_view_module_version": "1.2.0",
            "_view_name": "LayoutView",
            "align_content": null,
            "align_items": null,
            "align_self": null,
            "border": null,
            "bottom": null,
            "display": null,
            "flex": null,
            "flex_flow": null,
            "grid_area": null,
            "grid_auto_columns": null,
            "grid_auto_flow": null,
            "grid_auto_rows": null,
            "grid_column": null,
            "grid_gap": null,
            "grid_row": null,
            "grid_template_areas": null,
            "grid_template_columns": null,
            "grid_template_rows": null,
            "height": null,
            "justify_content": null,
            "justify_items": null,
            "left": null,
            "margin": null,
            "max_height": null,
            "max_width": null,
            "min_height": null,
            "min_width": null,
            "object_fit": null,
            "object_position": null,
            "order": null,
            "overflow": null,
            "overflow_x": null,
            "overflow_y": null,
            "padding": null,
            "right": null,
            "top": null,
            "visibility": null,
            "width": null
          }
        },
        "1e9bdadeee974ab9840e96882588140d": {
          "model_module": "@jupyter-widgets/base",
          "model_name": "LayoutModel",
          "model_module_version": "1.2.0",
          "state": {
            "_model_module": "@jupyter-widgets/base",
            "_model_module_version": "1.2.0",
            "_model_name": "LayoutModel",
            "_view_count": null,
            "_view_module": "@jupyter-widgets/base",
            "_view_module_version": "1.2.0",
            "_view_name": "LayoutView",
            "align_content": null,
            "align_items": null,
            "align_self": null,
            "border": null,
            "bottom": null,
            "display": null,
            "flex": null,
            "flex_flow": null,
            "grid_area": null,
            "grid_auto_columns": null,
            "grid_auto_flow": null,
            "grid_auto_rows": null,
            "grid_column": null,
            "grid_gap": null,
            "grid_row": null,
            "grid_template_areas": null,
            "grid_template_columns": null,
            "grid_template_rows": null,
            "height": null,
            "justify_content": null,
            "justify_items": null,
            "left": null,
            "margin": null,
            "max_height": null,
            "max_width": null,
            "min_height": null,
            "min_width": null,
            "object_fit": null,
            "object_position": null,
            "order": null,
            "overflow": null,
            "overflow_x": null,
            "overflow_y": null,
            "padding": null,
            "right": null,
            "top": null,
            "visibility": null,
            "width": null
          }
        },
        "87fd56460b37497fbad8db86e39af5ba": {
          "model_module": "@jupyter-widgets/controls",
          "model_name": "DescriptionStyleModel",
          "model_module_version": "1.5.0",
          "state": {
            "_model_module": "@jupyter-widgets/controls",
            "_model_module_version": "1.5.0",
            "_model_name": "DescriptionStyleModel",
            "_view_count": null,
            "_view_module": "@jupyter-widgets/base",
            "_view_module_version": "1.2.0",
            "_view_name": "StyleView",
            "description_width": ""
          }
        },
        "9b9bd2ec66a4429790cb2af550fb4398": {
          "model_module": "@jupyter-widgets/base",
          "model_name": "LayoutModel",
          "model_module_version": "1.2.0",
          "state": {
            "_model_module": "@jupyter-widgets/base",
            "_model_module_version": "1.2.0",
            "_model_name": "LayoutModel",
            "_view_count": null,
            "_view_module": "@jupyter-widgets/base",
            "_view_module_version": "1.2.0",
            "_view_name": "LayoutView",
            "align_content": null,
            "align_items": null,
            "align_self": null,
            "border": null,
            "bottom": null,
            "display": null,
            "flex": null,
            "flex_flow": null,
            "grid_area": null,
            "grid_auto_columns": null,
            "grid_auto_flow": null,
            "grid_auto_rows": null,
            "grid_column": null,
            "grid_gap": null,
            "grid_row": null,
            "grid_template_areas": null,
            "grid_template_columns": null,
            "grid_template_rows": null,
            "height": null,
            "justify_content": null,
            "justify_items": null,
            "left": null,
            "margin": null,
            "max_height": null,
            "max_width": null,
            "min_height": null,
            "min_width": null,
            "object_fit": null,
            "object_position": null,
            "order": null,
            "overflow": null,
            "overflow_x": null,
            "overflow_y": null,
            "padding": null,
            "right": null,
            "top": null,
            "visibility": null,
            "width": null
          }
        },
        "df21560330764cd5aaa5b954b068d652": {
          "model_module": "@jupyter-widgets/controls",
          "model_name": "ProgressStyleModel",
          "model_module_version": "1.5.0",
          "state": {
            "_model_module": "@jupyter-widgets/controls",
            "_model_module_version": "1.5.0",
            "_model_name": "ProgressStyleModel",
            "_view_count": null,
            "_view_module": "@jupyter-widgets/base",
            "_view_module_version": "1.2.0",
            "_view_name": "StyleView",
            "bar_color": null,
            "description_width": ""
          }
        },
        "3605ef00abba4b2796dd65c3dc8e7880": {
          "model_module": "@jupyter-widgets/base",
          "model_name": "LayoutModel",
          "model_module_version": "1.2.0",
          "state": {
            "_model_module": "@jupyter-widgets/base",
            "_model_module_version": "1.2.0",
            "_model_name": "LayoutModel",
            "_view_count": null,
            "_view_module": "@jupyter-widgets/base",
            "_view_module_version": "1.2.0",
            "_view_name": "LayoutView",
            "align_content": null,
            "align_items": null,
            "align_self": null,
            "border": null,
            "bottom": null,
            "display": null,
            "flex": null,
            "flex_flow": null,
            "grid_area": null,
            "grid_auto_columns": null,
            "grid_auto_flow": null,
            "grid_auto_rows": null,
            "grid_column": null,
            "grid_gap": null,
            "grid_row": null,
            "grid_template_areas": null,
            "grid_template_columns": null,
            "grid_template_rows": null,
            "height": null,
            "justify_content": null,
            "justify_items": null,
            "left": null,
            "margin": null,
            "max_height": null,
            "max_width": null,
            "min_height": null,
            "min_width": null,
            "object_fit": null,
            "object_position": null,
            "order": null,
            "overflow": null,
            "overflow_x": null,
            "overflow_y": null,
            "padding": null,
            "right": null,
            "top": null,
            "visibility": null,
            "width": null
          }
        },
        "f0de5374b57342f3917c6a79c7c5188d": {
          "model_module": "@jupyter-widgets/controls",
          "model_name": "DescriptionStyleModel",
          "model_module_version": "1.5.0",
          "state": {
            "_model_module": "@jupyter-widgets/controls",
            "_model_module_version": "1.5.0",
            "_model_name": "DescriptionStyleModel",
            "_view_count": null,
            "_view_module": "@jupyter-widgets/base",
            "_view_module_version": "1.2.0",
            "_view_name": "StyleView",
            "description_width": ""
          }
        },
        "b7acf6339935474aad75ad9435652922": {
          "model_module": "@jupyter-widgets/controls",
          "model_name": "HBoxModel",
          "model_module_version": "1.5.0",
          "state": {
            "_dom_classes": [],
            "_model_module": "@jupyter-widgets/controls",
            "_model_module_version": "1.5.0",
            "_model_name": "HBoxModel",
            "_view_count": null,
            "_view_module": "@jupyter-widgets/controls",
            "_view_module_version": "1.5.0",
            "_view_name": "HBoxView",
            "box_style": "",
            "children": [
              "IPY_MODEL_d2c6a7c21d154ed7a845302705364f7a",
              "IPY_MODEL_cf060d7dc73746ac9a74c6789b03b068",
              "IPY_MODEL_86fa81270d8b4d78a62d1e0714d4d89f"
            ],
            "layout": "IPY_MODEL_1819310e81d745648e443d21cf012814"
          }
        },
        "d2c6a7c21d154ed7a845302705364f7a": {
          "model_module": "@jupyter-widgets/controls",
          "model_name": "HTMLModel",
          "model_module_version": "1.5.0",
          "state": {
            "_dom_classes": [],
            "_model_module": "@jupyter-widgets/controls",
            "_model_module_version": "1.5.0",
            "_model_name": "HTMLModel",
            "_view_count": null,
            "_view_module": "@jupyter-widgets/controls",
            "_view_module_version": "1.5.0",
            "_view_name": "HTMLView",
            "description": "",
            "description_tooltip": null,
            "layout": "IPY_MODEL_cd6bba20752b4a1f97a89351993fe406",
            "placeholder": "​",
            "style": "IPY_MODEL_d3e6812205b347d2b4c8b02525b259bc",
            "value": "Export report to file: 100%"
          }
        },
        "cf060d7dc73746ac9a74c6789b03b068": {
          "model_module": "@jupyter-widgets/controls",
          "model_name": "FloatProgressModel",
          "model_module_version": "1.5.0",
          "state": {
            "_dom_classes": [],
            "_model_module": "@jupyter-widgets/controls",
            "_model_module_version": "1.5.0",
            "_model_name": "FloatProgressModel",
            "_view_count": null,
            "_view_module": "@jupyter-widgets/controls",
            "_view_module_version": "1.5.0",
            "_view_name": "ProgressView",
            "bar_style": "success",
            "description": "",
            "description_tooltip": null,
            "layout": "IPY_MODEL_f4619d7e2bda4ee6b3c598e8597fe60e",
            "max": 1,
            "min": 0,
            "orientation": "horizontal",
            "style": "IPY_MODEL_5322b9aad87f40e9ae4f7890539613a6",
            "value": 1
          }
        },
        "86fa81270d8b4d78a62d1e0714d4d89f": {
          "model_module": "@jupyter-widgets/controls",
          "model_name": "HTMLModel",
          "model_module_version": "1.5.0",
          "state": {
            "_dom_classes": [],
            "_model_module": "@jupyter-widgets/controls",
            "_model_module_version": "1.5.0",
            "_model_name": "HTMLModel",
            "_view_count": null,
            "_view_module": "@jupyter-widgets/controls",
            "_view_module_version": "1.5.0",
            "_view_name": "HTMLView",
            "description": "",
            "description_tooltip": null,
            "layout": "IPY_MODEL_08070077fd61480eab4498e9815d1373",
            "placeholder": "​",
            "style": "IPY_MODEL_43eec815e3dd47afb6f2877e583df7ea",
            "value": " 1/1 [00:00&lt;00:00, 30.00it/s]"
          }
        },
        "1819310e81d745648e443d21cf012814": {
          "model_module": "@jupyter-widgets/base",
          "model_name": "LayoutModel",
          "model_module_version": "1.2.0",
          "state": {
            "_model_module": "@jupyter-widgets/base",
            "_model_module_version": "1.2.0",
            "_model_name": "LayoutModel",
            "_view_count": null,
            "_view_module": "@jupyter-widgets/base",
            "_view_module_version": "1.2.0",
            "_view_name": "LayoutView",
            "align_content": null,
            "align_items": null,
            "align_self": null,
            "border": null,
            "bottom": null,
            "display": null,
            "flex": null,
            "flex_flow": null,
            "grid_area": null,
            "grid_auto_columns": null,
            "grid_auto_flow": null,
            "grid_auto_rows": null,
            "grid_column": null,
            "grid_gap": null,
            "grid_row": null,
            "grid_template_areas": null,
            "grid_template_columns": null,
            "grid_template_rows": null,
            "height": null,
            "justify_content": null,
            "justify_items": null,
            "left": null,
            "margin": null,
            "max_height": null,
            "max_width": null,
            "min_height": null,
            "min_width": null,
            "object_fit": null,
            "object_position": null,
            "order": null,
            "overflow": null,
            "overflow_x": null,
            "overflow_y": null,
            "padding": null,
            "right": null,
            "top": null,
            "visibility": null,
            "width": null
          }
        },
        "cd6bba20752b4a1f97a89351993fe406": {
          "model_module": "@jupyter-widgets/base",
          "model_name": "LayoutModel",
          "model_module_version": "1.2.0",
          "state": {
            "_model_module": "@jupyter-widgets/base",
            "_model_module_version": "1.2.0",
            "_model_name": "LayoutModel",
            "_view_count": null,
            "_view_module": "@jupyter-widgets/base",
            "_view_module_version": "1.2.0",
            "_view_name": "LayoutView",
            "align_content": null,
            "align_items": null,
            "align_self": null,
            "border": null,
            "bottom": null,
            "display": null,
            "flex": null,
            "flex_flow": null,
            "grid_area": null,
            "grid_auto_columns": null,
            "grid_auto_flow": null,
            "grid_auto_rows": null,
            "grid_column": null,
            "grid_gap": null,
            "grid_row": null,
            "grid_template_areas": null,
            "grid_template_columns": null,
            "grid_template_rows": null,
            "height": null,
            "justify_content": null,
            "justify_items": null,
            "left": null,
            "margin": null,
            "max_height": null,
            "max_width": null,
            "min_height": null,
            "min_width": null,
            "object_fit": null,
            "object_position": null,
            "order": null,
            "overflow": null,
            "overflow_x": null,
            "overflow_y": null,
            "padding": null,
            "right": null,
            "top": null,
            "visibility": null,
            "width": null
          }
        },
        "d3e6812205b347d2b4c8b02525b259bc": {
          "model_module": "@jupyter-widgets/controls",
          "model_name": "DescriptionStyleModel",
          "model_module_version": "1.5.0",
          "state": {
            "_model_module": "@jupyter-widgets/controls",
            "_model_module_version": "1.5.0",
            "_model_name": "DescriptionStyleModel",
            "_view_count": null,
            "_view_module": "@jupyter-widgets/base",
            "_view_module_version": "1.2.0",
            "_view_name": "StyleView",
            "description_width": ""
          }
        },
        "f4619d7e2bda4ee6b3c598e8597fe60e": {
          "model_module": "@jupyter-widgets/base",
          "model_name": "LayoutModel",
          "model_module_version": "1.2.0",
          "state": {
            "_model_module": "@jupyter-widgets/base",
            "_model_module_version": "1.2.0",
            "_model_name": "LayoutModel",
            "_view_count": null,
            "_view_module": "@jupyter-widgets/base",
            "_view_module_version": "1.2.0",
            "_view_name": "LayoutView",
            "align_content": null,
            "align_items": null,
            "align_self": null,
            "border": null,
            "bottom": null,
            "display": null,
            "flex": null,
            "flex_flow": null,
            "grid_area": null,
            "grid_auto_columns": null,
            "grid_auto_flow": null,
            "grid_auto_rows": null,
            "grid_column": null,
            "grid_gap": null,
            "grid_row": null,
            "grid_template_areas": null,
            "grid_template_columns": null,
            "grid_template_rows": null,
            "height": null,
            "justify_content": null,
            "justify_items": null,
            "left": null,
            "margin": null,
            "max_height": null,
            "max_width": null,
            "min_height": null,
            "min_width": null,
            "object_fit": null,
            "object_position": null,
            "order": null,
            "overflow": null,
            "overflow_x": null,
            "overflow_y": null,
            "padding": null,
            "right": null,
            "top": null,
            "visibility": null,
            "width": null
          }
        },
        "5322b9aad87f40e9ae4f7890539613a6": {
          "model_module": "@jupyter-widgets/controls",
          "model_name": "ProgressStyleModel",
          "model_module_version": "1.5.0",
          "state": {
            "_model_module": "@jupyter-widgets/controls",
            "_model_module_version": "1.5.0",
            "_model_name": "ProgressStyleModel",
            "_view_count": null,
            "_view_module": "@jupyter-widgets/base",
            "_view_module_version": "1.2.0",
            "_view_name": "StyleView",
            "bar_color": null,
            "description_width": ""
          }
        },
        "08070077fd61480eab4498e9815d1373": {
          "model_module": "@jupyter-widgets/base",
          "model_name": "LayoutModel",
          "model_module_version": "1.2.0",
          "state": {
            "_model_module": "@jupyter-widgets/base",
            "_model_module_version": "1.2.0",
            "_model_name": "LayoutModel",
            "_view_count": null,
            "_view_module": "@jupyter-widgets/base",
            "_view_module_version": "1.2.0",
            "_view_name": "LayoutView",
            "align_content": null,
            "align_items": null,
            "align_self": null,
            "border": null,
            "bottom": null,
            "display": null,
            "flex": null,
            "flex_flow": null,
            "grid_area": null,
            "grid_auto_columns": null,
            "grid_auto_flow": null,
            "grid_auto_rows": null,
            "grid_column": null,
            "grid_gap": null,
            "grid_row": null,
            "grid_template_areas": null,
            "grid_template_columns": null,
            "grid_template_rows": null,
            "height": null,
            "justify_content": null,
            "justify_items": null,
            "left": null,
            "margin": null,
            "max_height": null,
            "max_width": null,
            "min_height": null,
            "min_width": null,
            "object_fit": null,
            "object_position": null,
            "order": null,
            "overflow": null,
            "overflow_x": null,
            "overflow_y": null,
            "padding": null,
            "right": null,
            "top": null,
            "visibility": null,
            "width": null
          }
        },
        "43eec815e3dd47afb6f2877e583df7ea": {
          "model_module": "@jupyter-widgets/controls",
          "model_name": "DescriptionStyleModel",
          "model_module_version": "1.5.0",
          "state": {
            "_model_module": "@jupyter-widgets/controls",
            "_model_module_version": "1.5.0",
            "_model_name": "DescriptionStyleModel",
            "_view_count": null,
            "_view_module": "@jupyter-widgets/base",
            "_view_module_version": "1.2.0",
            "_view_name": "StyleView",
            "description_width": ""
          }
        }
      }
    }
  },
  "cells": [
    {
      "cell_type": "markdown",
      "metadata": {
        "id": "view-in-github",
        "colab_type": "text"
      },
      "source": [
        "<a href=\"https://colab.research.google.com/github/VyomPandya/Summer-Internship-Sem-7/blob/main/22IT157_INTERNSHIP_TASK3.ipynb\" target=\"_parent\"><img src=\"https://colab.research.google.com/assets/colab-badge.svg\" alt=\"Open In Colab\"/></a>"
      ]
    },
    {
      "cell_type": "markdown",
      "source": [
        "### 📥 Step 1: Importing Data from a CSV File\n",
        "\n",
        "In this step, we are loading the Titanic dataset from a CSV file into a Pandas DataFrame for further analysis.\n",
        "\n",
        "```python\n",
        "import pandas as pd\n"
      ],
      "metadata": {
        "id": "dXnYzTMfEnuU"
      }
    },
    {
      "cell_type": "code",
      "execution_count": null,
      "metadata": {
        "id": "NP4u65vSElqp"
      },
      "outputs": [],
      "source": [
        "import pandas as pd\n",
        "\n",
        "# Direct raw link (replace with the actual raw CSV URL if needed)\n",
        "df = pd.read_csv('netflix_data.csv')"
      ]
    },
    {
      "cell_type": "markdown",
      "source": [
        "### 🔍 Step 2: Exploring the Initial Structure and Summary of the Dataset\n",
        "---\n",
        "\n",
        "```python\n",
        "print(df.head())\n",
        "print(df.info())\n",
        "print(df.describe(include='all'))\n",
        "```\n",
        "\n",
        "**What this code does:**\n",
        "\n",
        "- `print(df.head())`: Displays the first 5 rows of the dataframe.\n",
        "\n",
        "- `print(df.info())`: Provides a concise summary of the dataframe including:\n",
        "  - The number of entries (rows)\n",
        "  - Column names and their data types\n",
        "  - Count of non-null values in each column\n",
        "  - Memory usage\n",
        "\n",
        "- `print(df.describe(include='all'))`: Generates comprehensive statistical summaries for all columns:\n",
        "  - For numeric columns: count, mean, standard deviation, min, 25%, 50% (median), 75%, and max values\n",
        "  - For categorical columns: count, unique values, top (most frequent) value, and frequency of the top value\n",
        "  The `include='all'` parameter ensures statistics are calculated for all columns, not just numeric ones."
      ],
      "metadata": {
        "id": "9EL4EwmPFETg"
      }
    },
    {
      "cell_type": "code",
      "source": [
        "print(df.head())       # First five rows\n",
        "print(df.info())       # Column types & non-null counts\n",
        "print(df.describe(include='all'))  # Summary statistics for numeric & categorical data"
      ],
      "metadata": {
        "colab": {
          "base_uri": "https://localhost:8080/"
        },
        "id": "Y-drxXKnFFYm",
        "outputId": "f8adb17e-a852-414b-c34e-d5d097d337b6"
      },
      "execution_count": null,
      "outputs": [
        {
          "output_type": "stream",
          "name": "stdout",
          "text": [
            "                 title   type                     genres  releaseYear  \\\n",
            "0                Ariel  movie     Comedy, Crime, Romance       1988.0   \n",
            "1  Shadows in Paradise  movie       Comedy, Drama, Music       1986.0   \n",
            "2         Forrest Gump  movie             Drama, Romance       1994.0   \n",
            "3      American Beauty  movie                      Drama       1999.0   \n",
            "4    The Fifth Element  movie  Action, Adventure, Sci-Fi       1997.0   \n",
            "\n",
            "      imdbId  imdbAverageRating  imdbNumVotes availableCountries  \n",
            "0  tt0094675                7.4        9169.0                NaN  \n",
            "1  tt0092149                7.4        7998.0                NaN  \n",
            "2  tt0109830                8.8     2377936.0                NaN  \n",
            "3  tt0169547                8.3     1248516.0                NaN  \n",
            "4  tt0119116                7.6      527078.0                NaN  \n",
            "<class 'pandas.core.frame.DataFrame'>\n",
            "RangeIndex: 21722 entries, 0 to 21721\n",
            "Data columns (total 8 columns):\n",
            " #   Column              Non-Null Count  Dtype  \n",
            "---  ------              --------------  -----  \n",
            " 0   title               21004 non-null  object \n",
            " 1   type                21722 non-null  object \n",
            " 2   genres              21355 non-null  object \n",
            " 3   releaseYear         21682 non-null  float64\n",
            " 4   imdbId              20096 non-null  object \n",
            " 5   imdbAverageRating   19913 non-null  float64\n",
            " 6   imdbNumVotes        19913 non-null  float64\n",
            " 7   availableCountries  160 non-null    object \n",
            "dtypes: float64(3), object(5)\n",
            "memory usage: 1.3+ MB\n",
            "None\n",
            "              title   type  genres   releaseYear      imdbId  \\\n",
            "count         21004  21722   21355  21682.000000       20096   \n",
            "unique        20161      2     880           NaN       20091   \n",
            "top     The Courier  movie  Comedy           NaN  tt33998607   \n",
            "freq              5  16424    1823           NaN           2   \n",
            "mean            NaN    NaN     NaN   2013.299281         NaN   \n",
            "std             NaN    NaN     NaN     14.319635         NaN   \n",
            "min             NaN    NaN     NaN   1913.000000         NaN   \n",
            "25%             NaN    NaN     NaN   2011.000000         NaN   \n",
            "50%             NaN    NaN     NaN   2018.000000         NaN   \n",
            "75%             NaN    NaN     NaN   2022.000000         NaN   \n",
            "max             NaN    NaN     NaN   2025.000000         NaN   \n",
            "\n",
            "        imdbAverageRating  imdbNumVotes  \\\n",
            "count        19913.000000  1.991300e+04   \n",
            "unique                NaN           NaN   \n",
            "top                   NaN           NaN   \n",
            "freq                  NaN           NaN   \n",
            "mean             6.400311  3.236026e+04   \n",
            "std              1.094520  1.219615e+05   \n",
            "min              1.000000  5.000000e+00   \n",
            "25%              5.700000  3.320000e+02   \n",
            "50%              6.500000  1.629000e+03   \n",
            "75%              7.200000  1.049800e+04   \n",
            "max              9.800000  3.042437e+06   \n",
            "\n",
            "                                       availableCountries  \n",
            "count                                                 160  \n",
            "unique                                                 99  \n",
            "top     AD, AE, AG, AL, AO, AR, AT, AU, AZ, BA, BB, BE...  \n",
            "freq                                                   11  \n",
            "mean                                                  NaN  \n",
            "std                                                   NaN  \n",
            "min                                                   NaN  \n",
            "25%                                                   NaN  \n",
            "50%                                                   NaN  \n",
            "75%                                                   NaN  \n",
            "max                                                   NaN  \n"
          ]
        }
      ]
    },
    {
      "cell_type": "markdown",
      "source": [
        "### 🧹 Step 3: Handling Missing Values and Duplicate Entries in the Dataset\n",
        "---\n",
        "\n",
        "```python\n",
        "# Count missing per column\n",
        "print(df.isna().sum())\n",
        "# Remove exact duplicates\n",
        "df.drop_duplicates(inplace=True)\n",
        "```\n",
        "\n",
        "**What this code does:**\n",
        "\n",
        "- `df.isna().sum()`: This counts the number of missing (NaN) values in each column of the DataFrame. It helps you understand which columns have incomplete data and may need imputation or removal.\n",
        "\n",
        "- `df.drop_duplicates(inplace=True)`: This removes all exact duplicate rows from the DataFrame.\n",
        "\n",
        "Duplicate rows are those where all column values are identical.\n",
        "\n",
        "The inplace=True parameter ensures that the operation is performed on the existing DataFrame, without needing to assign it to a new variable.\n"
      ],
      "metadata": {
        "id": "3qEmECbjFK1d"
      }
    },
    {
      "cell_type": "code",
      "source": [
        "# Count missing per column\n",
        "print(df.isna().sum())\n",
        "\n",
        "# Remove exact duplicates\n",
        "df.drop_duplicates(inplace=True)"
      ],
      "metadata": {
        "colab": {
          "base_uri": "https://localhost:8080/"
        },
        "id": "P3pzis_mFRCo",
        "outputId": "155fbd76-af7f-4fec-fce1-60b3bd5fc12a"
      },
      "execution_count": null,
      "outputs": [
        {
          "output_type": "stream",
          "name": "stdout",
          "text": [
            "title                   718\n",
            "type                      0\n",
            "genres                  367\n",
            "releaseYear              40\n",
            "imdbId                 1626\n",
            "imdbAverageRating      1809\n",
            "imdbNumVotes           1809\n",
            "availableCountries    21562\n",
            "dtype: int64\n"
          ]
        }
      ]
    },
    {
      "cell_type": "markdown",
      "source": [
        "\n",
        "### 📊 Step 4: Visualizing the Distribution of IMDb Ratings\n",
        "---\n",
        "\n",
        "```python\n",
        "import seaborn as sns\n",
        "import matplotlib.pyplot as plt\n",
        "\n",
        "sns.histplot(df['imdbAverageRating'], bins=30, kde=True)\n",
        "plt.title(\"Distribution of IMDb Average Ratings\")\n",
        "plt.xlabel(\"IMDb Rating\")\n",
        "plt.ylabel(\"Count\")\n",
        "plt.show()\n",
        "```\n",
        "\n",
        "**What this code does:**\n",
        "\n",
        "- `import seaborn as sns` and `import matplotlib.pyplot as plt`:  \n",
        "  These import the necessary libraries for creating visualizations. Seaborn is a statistical data visualization library built on top of Matplotlib.\n",
        "\n",
        "- `sns.histplot(...)`:  \n",
        "  Plots a histogram of the `imdbAverageRating` column from the DataFrame `df`.  \n",
        "  - `bins=30`: Divides the data into 30 bins for better granularity.  \n",
        "  - `kde=True`: Adds a Kernel Density Estimate line to visualize the distribution smoothly.\n",
        "\n",
        "- `plt.title(...)`, `plt.xlabel(...)`, `plt.ylabel(...)`:  \n",
        "  These add the plot title and axis labels for better readability and interpretation.\n",
        "\n",
        "- `plt.show()`:  \n",
        "  Displays the plot.\n"
      ],
      "metadata": {
        "id": "Yvi9zxX_FYw4"
      }
    },
    {
      "cell_type": "code",
      "source": [
        "import seaborn as sns\n",
        "import matplotlib.pyplot as plt\n",
        "\n",
        "sns.histplot(df['imdbAverageRating'], bins=30, kde=True)\n",
        "plt.title(\"Distribution of IMDb Average Ratings\")\n",
        "plt.xlabel(\"IMDb Rating\")\n",
        "plt.ylabel(\"Count\")\n",
        "plt.show()"
      ],
      "metadata": {
        "colab": {
          "base_uri": "https://localhost:8080/",
          "height": 472
        },
        "id": "8V-znwZ3FZoE",
        "outputId": "3655e4a4-9cba-4812-b94f-9c38de8eae16"
      },
      "execution_count": null,
      "outputs": [
        {
          "output_type": "display_data",
          "data": {
            "text/plain": [
              "<Figure size 640x480 with 1 Axes>"
            ],
            "image/png": "[encoded data removed]"
          },
          "metadata": {}
        }
      ]
    },
    {
      "cell_type": "markdown",
      "source": [
        "\n",
        "### 📦 Step 5: Visualizing Rating Spread by Title Type\n",
        "---\n",
        "\n",
        "```python\n",
        "sns.boxplot(data=df, x='type', y='imdbAverageRating')\n",
        "plt.title(\"Rating Spread by Title Type\")\n",
        "plt.xlabel(\"Type\")\n",
        "plt.ylabel(\"IMDb Rating\")\n",
        "plt.show()\n",
        "```\n",
        "\n",
        "**What this code does:**\n",
        "\n",
        "- `sns.boxplot(...)`:  \n",
        "  Creates a boxplot to show the distribution of IMDb ratings across different types of titles (e.g., movie, short, series).  \n",
        "  - `data=df`: Uses the DataFrame `df`.  \n",
        "  - `x='type'`: Sets the categorical variable for the x-axis.  \n",
        "  - `y='imdbAverageRating'`: Sets the numerical variable for the y-axis.\n",
        "\n",
        "- `plt.title(...)`, `plt.xlabel(...)`, `plt.ylabel(...)`:  \n",
        "  These functions label the plot for better clarity and understanding.\n",
        "\n",
        "- `plt.show()`:  \n",
        "  Renders the final plot."
      ],
      "metadata": {
        "id": "r08aIU_LFg6f"
      }
    },
    {
      "cell_type": "code",
      "source": [
        "sns.boxplot(data=df, x='type', y='imdbAverageRating')\n",
        "plt.title(\"Rating Spread by Title Type\")\n",
        "plt.xlabel(\"Type\")\n",
        "plt.ylabel(\"IMDb Rating\")\n",
        "plt.show()\n"
      ],
      "metadata": {
        "colab": {
          "base_uri": "https://localhost:8080/",
          "height": 472
        },
        "id": "-Dwk0vLCFh0z",
        "outputId": "c4298dfb-047e-423b-f1e0-e84f024026b0"
      },
      "execution_count": null,
      "outputs": [
        {
          "output_type": "display_data",
          "data": {
            "text/plain": [
              "<Figure size 640x480 with 1 Axes>"
            ],
            "image/png": "[encoded data removed]"
          },
          "metadata": {}
        }
      ]
    },
    {
      "cell_type": "markdown",
      "source": [
        "\n",
        "### 🎬 Step 6: Analyzing and Visualizing Top Genres\n",
        "---\n",
        "\n",
        "```python\n",
        "# Assume 'genres' is a comma-separated string; split and explode\n",
        "genre_counts = (df.assign(genres=df['genres'].str.split(','))\n",
        "                  .explode('genres')\n",
        "                  .genres.str.strip()\n",
        "                  .value_counts()\n",
        "                  .head(10))\n",
        "\n",
        "sns.barplot(x=genre_counts.values, y=genre_counts.index)\n",
        "plt.title(\"Top 10 Genres on Netflix\")\n",
        "plt.xlabel(\"Number of Titles\")\n",
        "plt.ylabel(\"Genre\")\n",
        "plt.show()\n",
        "```\n",
        "\n",
        "**What this code does:**\n",
        "\n",
        "- `df['genres'].str.split(',')`:  \n",
        "  Splits the genre string into a list for each row.\n",
        "\n",
        "- `.explode('genres')`:  \n",
        "  Converts each list of genres into separate rows (one genre per row), enabling proper counting.\n",
        "\n",
        "- `.genres.str.strip()`:  \n",
        "  Removes leading and trailing whitespace from each genre.\n",
        "\n",
        "- `.value_counts().head(10)`:  \n",
        "  Counts the frequency of each genre and selects the top 10 most common genres.\n",
        "\n",
        "- `sns.barplot(...)`:  \n",
        "  Visualizes the top 10 genres using a horizontal bar plot.  \n",
        "  - `x=genre_counts.values`: The number of titles in each genre.  \n",
        "  - `y=genre_counts.index`: The genre names.\n",
        "\n",
        "- Plot formatting functions (`plt.title`, `plt.xlabel`, `plt.ylabel`) enhance readability.  \n",
        "- `plt.show()`: Displays the plot."
      ],
      "metadata": {
        "id": "kr9xqe4pFocs"
      }
    },
    {
      "cell_type": "code",
      "source": [
        "# Assume 'genres' is a comma-separated string; split and explode\n",
        "genre_counts = (df.assign(genres=df['genres'].str.split(','))\n",
        "                  .explode('genres')\n",
        "                  .genres.str.strip()\n",
        "                  .value_counts()\n",
        "                  .head(10))\n",
        "\n",
        "sns.barplot(x=genre_counts.values, y=genre_counts.index)\n",
        "plt.title(\"Top 10 Genres on Netflix\")\n",
        "plt.xlabel(\"Number of Titles\")\n",
        "plt.ylabel(\"Genre\")\n",
        "plt.show()"
      ],
      "metadata": {
        "colab": {
          "base_uri": "https://localhost:8080/",
          "height": 472
        },
        "id": "EhlC1QD2FpW2",
        "outputId": "65991f43-278b-4009-eec4-8a88fb44a015"
      },
      "execution_count": null,
      "outputs": [
        {
          "output_type": "display_data",
          "data": {
            "text/plain": [
              "<Figure size 640x480 with 1 Axes>"
            ],
            "image/png": "[encoded data removed]"
          },
          "metadata": {}
        }
      ]
    },
    {
      "cell_type": "markdown",
      "source": [
        "### 📊 Step 7: Pairwise Plot of Release Year, IMDb Ratings & Votes\n",
        "---\n",
        "\n",
        "```python\n",
        "sns.pairplot(df[['releaseYear','imdbAverageRating','imdbNumVotes']],\n",
        "             kind='reg', diag_kind='kde')\n",
        "plt.suptitle(\"Pairwise Plots of Year, Ratings & Votes\", y=1.02)\n",
        "plt.show()\n",
        "```\n",
        "\n",
        "**What this code does:**\n",
        "\n",
        "- `sns.pairplot(...)`:  \n",
        "  Creates pairwise plots (scatter plots + regression lines) between selected numeric features.  \n",
        "  - `df[['releaseYear','imdbAverageRating','imdbNumVotes']]`: Selects relevant columns for the plot.  \n",
        "  - `kind='reg'`: Adds regression lines to scatter plots.  \n",
        "  - `diag_kind='kde'`: Uses Kernel Density Estimation on the diagonal plots.\n",
        "\n",
        "- `plt.suptitle(...)`:  \n",
        "  Adds a centered title above the entire plot grid.\n",
        "\n",
        "- `plt.show()`:  \n",
        "  Displays the visualization."
      ],
      "metadata": {
        "id": "Fkgc-EOZFxkK"
      }
    },
    {
      "cell_type": "code",
      "source": [
        "sns.pairplot(df[['releaseYear','imdbAverageRating','imdbNumVotes']],\n",
        "             kind='reg', diag_kind='kde')\n",
        "plt.suptitle(\"Pairwise Plots of Year, Ratings & Votes\", y=1.02)\n",
        "plt.show()"
      ],
      "metadata": {
        "colab": {
          "base_uri": "https://localhost:8080/",
          "height": 787
        },
        "id": "8gLxqdvXF3Bf",
        "outputId": "4bbcaf45-a888-494c-bef4-cd201b9b7bb6"
      },
      "execution_count": null,
      "outputs": [
        {
          "output_type": "display_data",
          "data": {
            "text/plain": [
              "<Figure size 750x750 with 12 Axes>"
            ],
            "image/png": "[encoded data removed]"
          },
          "metadata": {}
        }
      ]
    },
    {
      "cell_type": "markdown",
      "source": [
        "### 📈 Step 8: Correlation Matrix of Key Features\n",
        "---\n",
        "\n",
        "```python\n",
        "corr = df[['releaseYear','imdbAverageRating','imdbNumVotes']].corr()\n",
        "sns.heatmap(corr, annot=True, fmt=\".2f\", square=True)\n",
        "plt.title(\"Correlation Matrix\")\n",
        "plt.show()\n",
        "```\n",
        "\n",
        "**What this code does:**\n",
        "\n",
        "- `df[['releaseYear','imdbAverageRating','imdbNumVotes']].corr()`:  \n",
        "  Calculates the Pearson correlation coefficients between the selected numeric features.\n",
        "\n",
        "- `sns.heatmap(...)`:  \n",
        "  Visualizes the correlation matrix using a heatmap.  \n",
        "  - `corr`: The correlation matrix computed earlier.  \n",
        "  - `annot=True`: Displays the correlation values in each cell.  \n",
        "  - `fmt=\".2f\"`: Formats numbers to 2 decimal places.  \n",
        "  - `square=True`: Makes each cell square-shaped for a clean layout.\n",
        "\n",
        "- `plt.title(...)`:  \n",
        "  Adds a descriptive title to the heatmap.\n",
        "\n",
        "- `plt.show()`:  \n",
        "  Renders the heatmap.\n"
      ],
      "metadata": {
        "id": "XogA-GoNF9kT"
      }
    },
    {
      "cell_type": "code",
      "source": [
        "corr = df[['releaseYear','imdbAverageRating','imdbNumVotes']].corr()\n",
        "sns.heatmap(corr, annot=True, fmt=\".2f\", square=True)\n",
        "plt.title(\"Correlation Matrix\")\n",
        "plt.show()"
      ],
      "metadata": {
        "colab": {
          "base_uri": "https://localhost:8080/",
          "height": 452
        },
        "id": "T2VmWZyOF-bG",
        "outputId": "77cc322d-b426-4323-8a2f-4a97d1b40ff9"
      },
      "execution_count": null,
      "outputs": [
        {
          "output_type": "display_data",
          "data": {
            "text/plain": [
              "<Figure size 640x480 with 2 Axes>"
            ],
            "image/png": "[encoded data removed]"
          },
          "metadata": {}
        }
      ]
    },
    {
      "cell_type": "markdown",
      "source": [
        "### 📄 Step 9: Generating an EDA Report with `ydata-profiling`\n",
        "---\n",
        "\n",
        "```python\n",
        "!pip install ydata-profiling\n",
        "from ydata_profiling import ProfileReport\n",
        "\n",
        "profile = ProfileReport(df, title=\"Netflix EDA Report\", explorative=True)\n",
        "profile.to_file(\"netflix_eda_report.html\")\n",
        "```\n",
        "\n",
        "**What this code does:**\n",
        "\n",
        "- `!pip install ydata-profiling`:  \n",
        "  Installs the `ydata-profiling` library, which is used to create automated EDA (Exploratory Data Analysis) reports.\n",
        "\n",
        "- `from ydata_profiling import ProfileReport`:  \n",
        "  Imports the `ProfileReport` class from the installed library.\n",
        "\n",
        "- `ProfileReport(...)`:  \n",
        "  Initializes the EDA report for the DataFrame `df`.  \n",
        "  - `title=\"Netflix EDA Report\"`: Sets the title of the report.  \n",
        "  - `explorative=True`: Enables a detailed exploratory mode for deeper analysis.\n",
        "\n",
        "- `profile.to_file(\"netflix_eda_report.html\")`:  \n",
        "  Exports the EDA report as an interactive HTML file named `netflix_eda_report.html`."
      ],
      "metadata": {
        "id": "qeYWNYa_GCnt"
      }
    },
    {
      "cell_type": "code",
      "source": [
        "!pip install ydata-profiling\n",
        "from ydata_profiling import ProfileReport\n",
        "\n",
        "profile = ProfileReport(df, title=\"Netflix EDA Report\", explorative=True)\n",
        "profile.to_file(\"netflix_eda_report.html\")"
      ],
      "metadata": {
        "colab": {
          "base_uri": "https://localhost:8080/",
          "height": 1000,
          "referenced_widgets": [
            "5df7f18a8826462794f806df922f93cf",
            "e042de0f4a474a1791fe86fe0bf201a4",
            "fbba6c983d814826a40e848b24de115f",
            "9481efa5be224e688bedd0e68f387839",
            "1f143b73e1b344cdab5ac1782a945bbc",
            "55911db417404cb0b03f2b5bccb65ceb",
            "f5391e09c90745c290571c8f6537ca43",
            "239182e77ebe4a4a8cdb9a0ac5b4d860",
            "7c0cddae0ded4850950b750894965beb",
            "b786e81a8897442c9894fa25b2a96111",
            "24f3a92b174b41d99f784e93be56b5ca",
            "d212f3c1e82447eab33a5c30204e2c82",
            "f341316db1cf44df863952e51463624b",
            "b90c86b002b74f56a8bbeaa1f961e01c",
            "cd8bdd2a5e624a8aa7eed13e131ee94d",
            "fbbaed4127b04ea0b231894669a02060",
            "881c8d2c80c44be692936d57a9684087",
            "1f15a399947a4fcea49a98e6d5ebb53b",
            "924a3ddc2dee4d11be6fe59ceb7ce485",
            "e4372efc510b45b9b2f49fcfc6b33d8c",
            "c487d5bcfacb404b9b52bb44a19ab4a0",
            "5b45aa34969345f3a8af10035d25c28e",
            "e2db0b3cdaef46edbc0ff8bb97eb03c5",
            "b32f8e0fb6994b698a48d5ce5485f818",
            "022a4ac46c844a9dbbe2f96cebb40c45",
            "14b098081ede45f09a7d127ee49c6b68",
            "bdf895cc1650445cbef2d36da7aeda40",
            "1e9bdadeee974ab9840e96882588140d",
            "87fd56460b37497fbad8db86e39af5ba",
            "9b9bd2ec66a4429790cb2af550fb4398",
            "df21560330764cd5aaa5b954b068d652",
            "3605ef00abba4b2796dd65c3dc8e7880",
            "f0de5374b57342f3917c6a79c7c5188d",
            "b7acf6339935474aad75ad9435652922",
            "d2c6a7c21d154ed7a845302705364f7a",
            "cf060d7dc73746ac9a74c6789b03b068",
            "86fa81270d8b4d78a62d1e0714d4d89f",
            "1819310e81d745648e443d21cf012814",
            "cd6bba20752b4a1f97a89351993fe406",
            "d3e6812205b347d2b4c8b02525b259bc",
            "f4619d7e2bda4ee6b3c598e8597fe60e",
            "5322b9aad87f40e9ae4f7890539613a6",
            "08070077fd61480eab4498e9815d1373",
            "43eec815e3dd47afb6f2877e583df7ea"
          ]
        },
        "id": "zVxkR8XrGH8m",
        "outputId": "f5c623dc-8f22-41ce-bc13-6bcfa2b88d19"
      },
      "execution_count": null,
      "outputs": [
        {
          "output_type": "stream",
          "name": "stdout",
          "text": [
            "Collecting ydata-profiling\n",
            "  Downloading ydata_profiling-4.16.1-py2.py3-none-any.whl.metadata (22 kB)\n",
            "Requirement already satisfied: scipy<1.16,>=1.4.1 in /usr/local/lib/python3.11/dist-packages (from ydata-profiling) (1.15.3)\n",
            "Requirement already satisfied: pandas!=1.4.0,<3.0,>1.1 in /usr/local/lib/python3.11/dist-packages (from ydata-profiling) (2.2.2)\n",
            "Requirement already satisfied: matplotlib<=3.10,>=3.5 in /usr/local/lib/python3.11/dist-packages (from ydata-profiling) (3.10.0)\n",
            "Requirement already satisfied: pydantic>=2 in /usr/local/lib/python3.11/dist-packages (from ydata-profiling) (2.11.4)\n",
            "Requirement already satisfied: PyYAML<6.1,>=5.0.0 in /usr/local/lib/python3.11/dist-packages (from ydata-profiling) (6.0.2)\n",
            "Requirement already satisfied: jinja2<3.2,>=2.11.1 in /usr/local/lib/python3.11/dist-packages (from ydata-profiling) (3.1.6)\n",
            "Collecting visions<0.8.2,>=0.7.5 (from visions[type_image_path]<0.8.2,>=0.7.5->ydata-profiling)\n",
            "  Downloading visions-0.8.1-py3-none-any.whl.metadata (11 kB)\n",
            "Requirement already satisfied: numpy<2.2,>=1.16.0 in /usr/local/lib/python3.11/dist-packages (from ydata-profiling) (2.0.2)\n",
            "Collecting htmlmin==0.1.12 (from ydata-profiling)\n",
            "  Downloading htmlmin-0.1.12.tar.gz (19 kB)\n",
            "  Preparing metadata (setup.py) ... \u001b[?25l\u001b[?25hdone\n",
            "Collecting phik<0.13,>=0.11.1 (from ydata-profiling)\n",
            "  Downloading phik-0.12.4-cp311-cp311-manylinux_2_17_x86_64.manylinux2014_x86_64.whl.metadata (5.6 kB)\n",
            "Requirement already satisfied: requests<3,>=2.24.0 in /usr/local/lib/python3.11/dist-packages (from ydata-profiling) (2.32.3)\n",
            "Requirement already satisfied: tqdm<5,>=4.48.2 in /usr/local/lib/python3.11/dist-packages (from ydata-profiling) (4.67.1)\n",
            "Requirement already satisfied: seaborn<0.14,>=0.10.1 in /usr/local/lib/python3.11/dist-packages (from ydata-profiling) (0.13.2)\n",
            "Collecting multimethod<2,>=1.4 (from ydata-profiling)\n",
            "  Downloading multimethod-1.12-py3-none-any.whl.metadata (9.6 kB)\n",
            "Requirement already satisfied: statsmodels<1,>=0.13.2 in /usr/local/lib/python3.11/dist-packages (from ydata-profiling) (0.14.4)\n",
            "Requirement already satisfied: typeguard<5,>=3 in /usr/local/lib/python3.11/dist-packages (from ydata-profiling) (4.4.2)\n",
            "Collecting imagehash==4.3.1 (from ydata-profiling)\n",
            "  Downloading ImageHash-4.3.1-py2.py3-none-any.whl.metadata (8.0 kB)\n",
            "Requirement already satisfied: wordcloud>=1.9.3 in /usr/local/lib/python3.11/dist-packages (from ydata-profiling) (1.9.4)\n",
            "Collecting dacite>=1.8 (from ydata-profiling)\n",
            "  Downloading dacite-1.9.2-py3-none-any.whl.metadata (17 kB)\n",
            "Requirement already satisfied: numba<=0.61,>=0.56.0 in /usr/local/lib/python3.11/dist-packages (from ydata-profiling) (0.60.0)\n",
            "Requirement already satisfied: PyWavelets in /usr/local/lib/python3.11/dist-packages (from imagehash==4.3.1->ydata-profiling) (1.8.0)\n",
            "Requirement already satisfied: pillow in /usr/local/lib/python3.11/dist-packages (from imagehash==4.3.1->ydata-profiling) (11.2.1)\n",
            "Requirement already satisfied: MarkupSafe>=2.0 in /usr/local/lib/python3.11/dist-packages (from jinja2<3.2,>=2.11.1->ydata-profiling) (3.0.2)\n",
            "Requirement already satisfied: contourpy>=1.0.1 in /usr/local/lib/python3.11/dist-packages (from matplotlib<=3.10,>=3.5->ydata-profiling) (1.3.2)\n",
            "Requirement already satisfied: cycler>=0.10 in /usr/local/lib/python3.11/dist-packages (from matplotlib<=3.10,>=3.5->ydata-profiling) (0.12.1)\n",
            "Requirement already satisfied: fonttools>=4.22.0 in /usr/local/lib/python3.11/dist-packages (from matplotlib<=3.10,>=3.5->ydata-profiling) (4.57.0)\n",
            "Requirement already satisfied: kiwisolver>=1.3.1 in /usr/local/lib/python3.11/dist-packages (from matplotlib<=3.10,>=3.5->ydata-profiling) (1.4.8)\n",
            "Requirement already satisfied: packaging>=20.0 in /usr/local/lib/python3.11/dist-packages (from matplotlib<=3.10,>=3.5->ydata-profiling) (24.2)\n",
            "Requirement already satisfied: pyparsing>=2.3.1 in /usr/local/lib/python3.11/dist-packages (from matplotlib<=3.10,>=3.5->ydata-profiling) (3.2.3)\n",
            "Requirement already satisfied: python-dateutil>=2.7 in /usr/local/lib/python3.11/dist-packages (from matplotlib<=3.10,>=3.5->ydata-profiling) (2.9.0.post0)\n",
            "Requirement already satisfied: llvmlite<0.44,>=0.43.0dev0 in /usr/local/lib/python3.11/dist-packages (from numba<=0.61,>=0.56.0->ydata-profiling) (0.43.0)\n",
            "Requirement already satisfied: pytz>=2020.1 in /usr/local/lib/python3.11/dist-packages (from pandas!=1.4.0,<3.0,>1.1->ydata-profiling) (2025.2)\n",
            "Requirement already satisfied: tzdata>=2022.7 in /usr/local/lib/python3.11/dist-packages (from pandas!=1.4.0,<3.0,>1.1->ydata-profiling) (2025.2)\n",
            "Requirement already satisfied: joblib>=0.14.1 in /usr/local/lib/python3.11/dist-packages (from phik<0.13,>=0.11.1->ydata-profiling) (1.5.0)\n",
            "Requirement already satisfied: annotated-types>=0.6.0 in /usr/local/lib/python3.11/dist-packages (from pydantic>=2->ydata-profiling) (0.7.0)\n",
            "Requirement already satisfied: pydantic-core==2.33.2 in /usr/local/lib/python3.11/dist-packages (from pydantic>=2->ydata-profiling) (2.33.2)\n",
            "Requirement already satisfied: typing-extensions>=4.12.2 in /usr/local/lib/python3.11/dist-packages (from pydantic>=2->ydata-profiling) (4.13.2)\n",
            "Requirement already satisfied: typing-inspection>=0.4.0 in /usr/local/lib/python3.11/dist-packages (from pydantic>=2->ydata-profiling) (0.4.0)\n",
            "Requirement already satisfied: charset-normalizer<4,>=2 in /usr/local/lib/python3.11/dist-packages (from requests<3,>=2.24.0->ydata-profiling) (3.4.2)\n",
            "Requirement already satisfied: idna<4,>=2.5 in /usr/local/lib/python3.11/dist-packages (from requests<3,>=2.24.0->ydata-profiling) (3.10)\n",
            "Requirement already satisfied: urllib3<3,>=1.21.1 in /usr/local/lib/python3.11/dist-packages (from requests<3,>=2.24.0->ydata-profiling) (2.4.0)\n",
            "Requirement already satisfied: certifi>=2017.4.17 in /usr/local/lib/python3.11/dist-packages (from requests<3,>=2.24.0->ydata-profiling) (2025.4.26)\n",
            "Requirement already satisfied: patsy>=0.5.6 in /usr/local/lib/python3.11/dist-packages (from statsmodels<1,>=0.13.2->ydata-profiling) (1.0.1)\n",
            "Requirement already satisfied: attrs>=19.3.0 in /usr/local/lib/python3.11/dist-packages (from visions<0.8.2,>=0.7.5->visions[type_image_path]<0.8.2,>=0.7.5->ydata-profiling) (25.3.0)\n",
            "Requirement already satisfied: networkx>=2.4 in /usr/local/lib/python3.11/dist-packages (from visions<0.8.2,>=0.7.5->visions[type_image_path]<0.8.2,>=0.7.5->ydata-profiling) (3.4.2)\n",
            "Collecting puremagic (from visions<0.8.2,>=0.7.5->visions[type_image_path]<0.8.2,>=0.7.5->ydata-profiling)\n",
            "  Downloading puremagic-1.29-py3-none-any.whl.metadata (5.8 kB)\n",
            "Requirement already satisfied: six>=1.5 in /usr/local/lib/python3.11/dist-packages (from python-dateutil>=2.7->matplotlib<=3.10,>=3.5->ydata-profiling) (1.17.0)\n",
            "Downloading ydata_profiling-4.16.1-py2.py3-none-any.whl (400 kB)\n",
            "\u001b[2K   \u001b[90m━━━━━━━━━━━━━━━━━━━━━━━━━━━━━━━━━━━━━━━━\u001b[0m \u001b[32m400.1/400.1 kB\u001b[0m \u001b[31m10.1 MB/s\u001b[0m eta \u001b[36m0:00:00\u001b[0m\n",
            "\u001b[?25hDownloading ImageHash-4.3.1-py2.py3-none-any.whl (296 kB)\n",
            "\u001b[2K   \u001b[90m━━━━━━━━━━━━━━━━━━━━━━━━━━━━━━━━━━━━━━━━\u001b[0m \u001b[32m296.5/296.5 kB\u001b[0m \u001b[31m24.1 MB/s\u001b[0m eta \u001b[36m0:00:00\u001b[0m\n",
            "\u001b[?25hDownloading dacite-1.9.2-py3-none-any.whl (16 kB)\n",
            "Downloading multimethod-1.12-py3-none-any.whl (10 kB)\n",
            "Downloading phik-0.12.4-cp311-cp311-manylinux_2_17_x86_64.manylinux2014_x86_64.whl (687 kB)\n",
            "\u001b[2K   \u001b[90m━━━━━━━━━━━━━━━━━━━━━━━━━━━━━━━━━━━━━━━━\u001b[0m \u001b[32m687.8/687.8 kB\u001b[0m \u001b[31m34.8 MB/s\u001b[0m eta \u001b[36m0:00:00\u001b[0m\n",
            "\u001b[?25hDownloading visions-0.8.1-py3-none-any.whl (105 kB)\n",
            "\u001b[2K   \u001b[90m━━━━━━━━━━━━━━━━━━━━━━━━━━━━━━━━━━━━━━━━\u001b[0m \u001b[32m105.4/105.4 kB\u001b[0m \u001b[31m9.0 MB/s\u001b[0m eta \u001b[36m0:00:00\u001b[0m\n",
            "\u001b[?25hDownloading puremagic-1.29-py3-none-any.whl (43 kB)\n",
            "\u001b[2K   \u001b[90m━━━━━━━━━━━━━━━━━━━━━━━━━━━━━━━━━━━━━━━━\u001b[0m \u001b[32m43.3/43.3 kB\u001b[0m \u001b[31m3.4 MB/s\u001b[0m eta \u001b[36m0:00:00\u001b[0m\n",
            "\u001b[?25hBuilding wheels for collected packages: htmlmin\n",
            "  Building wheel for htmlmin (setup.py) ... \u001b[?25l\u001b[?25hdone\n",
            "  Created wheel for htmlmin: filename=htmlmin-0.1.12-py3-none-any.whl size=27081 sha256=70cfa8d7b9c336392b278ad15819bf81b9ea954e59f19d943d0de064dc26fd6d\n",
            "  Stored in directory: /root/.cache/pip/wheels/8d/55/1a/19cd535375ed1ede0c996405ebffe34b196d78e2d9545723a2\n",
            "Successfully built htmlmin\n",
            "Installing collected packages: puremagic, htmlmin, multimethod, dacite, imagehash, visions, phik, ydata-profiling\n",
            "Successfully installed dacite-1.9.2 htmlmin-0.1.12 imagehash-4.3.1 multimethod-1.12 phik-0.12.4 puremagic-1.29 visions-0.8.1 ydata-profiling-4.16.1\n"
          ]
        },
        {
          "output_type": "display_data",
          "data": {
            "text/plain": [
              "<IPython.core.display.HTML object>"
            ],
            "text/html": [
              "\n",
              "            <div>\n",
              "                <ins><a href=\"https://ydata.ai/register\">Upgrade to ydata-sdk</a></ins>\n",
              "                <p>\n",
              "                    Improve your data and profiling with ydata-sdk, featuring data quality scoring, redundancy detection, outlier identification, text validation, and synthetic data generation.\n",
              "                </p>\n",
              "            </div>\n",
              "            "
            ]
          },
          "metadata": {}
        },
        {
          "output_type": "display_data",
          "data": {
            "text/plain": [
              "Summarize dataset:   0%|          | 0/5 [00:00<?, ?it/s]"
            ],
            "application/vnd.jupyter.widget-view+json": {
              "version_major": 2,
              "version_minor": 0,
              "model_id": "5df7f18a8826462794f806df922f93cf"
            }
          },
          "metadata": {}
        },
        {
          "output_type": "stream",
          "name": "stderr",
          "text": [
            "\n",
            "  0%|          | 0/8 [00:00<?, ?it/s]\u001b[A\n",
            " 12%|█▎        | 1/8 [00:00<00:03,  1.96it/s]\u001b[A\n",
            "100%|██████████| 8/8 [00:00<00:00,  8.40it/s]\n"
          ]
        },
        {
          "output_type": "display_data",
          "data": {
            "text/plain": [
              "Generate report structure:   0%|          | 0/1 [00:00<?, ?it/s]"
            ],
            "application/vnd.jupyter.widget-view+json": {
              "version_major": 2,
              "version_minor": 0,
              "model_id": "d212f3c1e82447eab33a5c30204e2c82"
            }
          },
          "metadata": {}
        },
        {
          "output_type": "display_data",
          "data": {
            "text/plain": [
              "Render HTML:   0%|          | 0/1 [00:00<?, ?it/s]"
            ],
            "application/vnd.jupyter.widget-view+json": {
              "version_major": 2,
              "version_minor": 0,
              "model_id": "e2db0b3cdaef46edbc0ff8bb97eb03c5"
            }
          },
          "metadata": {}
        },
        {
          "output_type": "display_data",
          "data": {
            "text/plain": [
              "Export report to file:   0%|          | 0/1 [00:00<?, ?it/s]"
            ],
            "application/vnd.jupyter.widget-view+json": {
              "version_major": 2,
              "version_minor": 0,
              "model_id": "b7acf6339935474aad75ad9435652922"
            }
          },
          "metadata": {}
        }
      ]
    },
    {
      "cell_type": "code",
      "source": [
        "from google.colab import files\n",
        "files.download(\"netflix_eda_report.html\")"
      ],
      "metadata": {
        "colab": {
          "base_uri": "https://localhost:8080/",
          "height": 17
        },
        "id": "7bTCE7PIG4FQ",
        "outputId": "4984cc98-2bd1-4cf7-9252-fa86e6bd03cc"
      },
      "execution_count": null,
      "outputs": [
        {
          "output_type": "display_data",
          "data": {
            "text/plain": [
              "<IPython.core.display.Javascript object>"
            ],
            "application/javascript": [
              "\n",
              "    async function download(id, filename, size) {\n",
              "      if (!google.colab.kernel.accessAllowed) {\n",
              "        return;\n",
              "      }\n",
              "      const div = document.createElement('div');\n",
              "      const label = document.createElement('label');\n",
              "      label.textContent = `Downloading \"${filename}\": `;\n",
              "      div.appendChild(label);\n",
              "      const progress = document.createElement('progress');\n",
              "      progress.max = size;\n",
              "      div.appendChild(progress);\n",
              "      document.body.appendChild(div);\n",
              "\n",
              "      const buffers = [];\n",
              "      let downloaded = 0;\n",
              "\n",
              "      const channel = await google.colab.kernel.comms.open(id);\n",
              "      // Send a message to notify the kernel that we're ready.\n",
              "      channel.send({})\n",
              "\n",
              "      for await (const message of channel.messages) {\n",
              "        // Send a message to notify the kernel that we're ready.\n",
              "        channel.send({})\n",
              "        if (message.buffers) {\n",
              "          for (const buffer of message.buffers) {\n",
              "            buffers.push(buffer);\n",
              "            downloaded += buffer.byteLength;\n",
              "            progress.value = downloaded;\n",
              "          }\n",
              "        }\n",
              "      }\n",
              "      const blob = new Blob(buffers, {type: 'application/binary'});\n",
              "      const a = document.createElement('a');\n",
              "      a.href = window.URL.createObjectURL(blob);\n",
              "      a.download = filename;\n",
              "      div.appendChild(a);\n",
              "      a.click();\n",
              "      div.remove();\n",
              "    }\n",
              "  "
            ]
          },
          "metadata": {}
        },
        {
          "output_type": "display_data",
          "data": {
            "text/plain": [
              "<IPython.core.display.Javascript object>"
            ],
            "application/javascript": [
              "download(\"download_3d331f85-480a-47c4-a328-cafbdb54d4cf\", \"netflix_eda_report.html\", 2639472)"
            ]
          },
          "metadata": {}
        }
      ]
    },
    {
      "cell_type": "markdown",
      "source": [
        "### 📄 Step 10 : Feature Engineering for Netflix Dataset\n",
        "---\n",
        "\n",
        "```python\n",
        "# Safely split and count countries, handling NaN values\n",
        "df['country_count'] = df['availableCountries'] \\\n",
        "    .fillna('') \\\n",
        "    .str.split(',') \\\n",
        "    .apply(lambda x: len([i for i in x if i.strip()]))  # count non-empty entries\n",
        "\n",
        "# 1.2 Title length (number of characters)\n",
        "df['title_length'] = df['title'] \\\n",
        "    .astype(str) \\\n",
        "    .str.len()\n",
        "\n",
        "# 1.3 Age of title as of 2025\n",
        "CURRENT_YEAR = 2025\n",
        "df['title_age'] = CURRENT_YEAR - df['releaseYear']\n",
        "\n",
        "# Display the results\n",
        "print(df[['title', 'country_count', 'title_length', 'title_age']].head())\n",
        "```\n",
        "\n",
        "**What this code does:**\n",
        "\n",
        "- `df['country_count'] = ...`:  \n",
        "  Creates a new column that counts the number of countries where each title is available.\n",
        "  - `fillna('')`: Replaces any NaN values with empty strings to avoid errors.\n",
        "  - `str.split(',')`: Splits the comma-separated country list into arrays.\n",
        "  - `apply(lambda x: len([i for i in x if i.strip()]))`: Counts only non-empty entries after splitting.\n",
        "\n",
        "- `df['title_length'] = ...`:  \n",
        "  Creates a feature that calculates the length (number of characters) of each title.\n",
        "  - `astype(str)`: Ensures the title is treated as a string.\n",
        "  - `str.len()`: Counts the number of characters in each title.\n",
        "\n",
        "- `df['title_age'] = ...`:  \n",
        "  Calculates how old each title is as of 2025.\n",
        "  - `CURRENT_YEAR - df['releaseYear']`: Subtracts the release year from the current year.\n",
        "\n",
        "- `print(df[...].head())`:  \n",
        "  Displays the first 5 rows of the DataFrame with the newly created features to verify the results."
      ],
      "metadata": {
        "id": "3UvtHL-AHfTq"
      }
    },
    {
      "cell_type": "code",
      "source": [
        "# Safely split and count countries, handling NaN values\n",
        "df['country_count'] = df['availableCountries'] \\\n",
        "    .fillna('') \\\n",
        "    .str.split(',') \\\n",
        "    .apply(lambda x: len([i for i in x if i.strip()]))  # count non-empty entries\n",
        "\n",
        "# 1.2 Title length (number of characters)\n",
        "df['title_length'] = df['title'] \\\n",
        "    .astype(str) \\\n",
        "    .str.len()\n",
        "\n",
        "# 1.3 Age of title as of 2025\n",
        "CURRENT_YEAR = 2025\n",
        "df['title_age'] = CURRENT_YEAR - df['releaseYear']\n",
        "\n",
        "# Display the results\n",
        "print(df[['title', 'country_count', 'title_length', 'title_age']].head())\n"
      ],
      "metadata": {
        "id": "qg-u60U8HgUH",
        "colab": {
          "base_uri": "https://localhost:8080/"
        },
        "outputId": "70243b88-099b-43a9-9ab8-ac1257b94816"
      },
      "execution_count": null,
      "outputs": [
        {
          "output_type": "stream",
          "name": "stdout",
          "text": [
            "                 title  country_count  title_length  title_age\n",
            "0                Ariel              0             5       37.0\n",
            "1  Shadows in Paradise              0            19       39.0\n",
            "2         Forrest Gump              0            12       31.0\n",
            "3      American Beauty              0            15       26.0\n",
            "4    The Fifth Element              0            17       28.0\n"
          ]
        }
      ]
    },
    {
      "cell_type": "markdown",
      "source": [
        "### 📊 Step 11 : Temporal Analysis of Netflix Titles\n",
        "---\n",
        "\n",
        "```python\n",
        "import seaborn as sns\n",
        "import matplotlib.pyplot as plt\n",
        "\n",
        "# 2.1 Annual count of titles released\n",
        "annual_counts = df.groupby('releaseYear') \\\n",
        "    .size() \\\n",
        "    .reset_index(name='count')\n",
        "\n",
        "# Line plot of counts by year\n",
        "sns.lineplot(data=annual_counts, x='releaseYear', y='count')\n",
        "plt.title(\"Number of Netflix Titles Released per Year\")\n",
        "plt.xlabel(\"Release Year\")\n",
        "plt.ylabel(\"Count of Titles\")\n",
        "plt.show()\n",
        "\n",
        "# 2.2 Annual average IMDb rating\n",
        "annual_avg_rating = df.groupby('releaseYear')['imdbAverageRating'] \\\n",
        "    .mean() \\\n",
        "    .reset_index(name='avg_rating')\n",
        "\n",
        "# Line plot of average rating by year\n",
        "sns.lineplot(data=annual_avg_rating, x='releaseYear', y='avg_rating')\n",
        "plt.title(\"Average IMDb Rating by Release Year\")\n",
        "plt.xlabel(\"Release Year\")\n",
        "plt.ylabel(\"Average Rating\")\n",
        "plt.show()\n",
        "```\n",
        "\n",
        "**What this code does:**\n",
        "\n",
        "- `import seaborn as sns` and `import matplotlib.pyplot as plt`:  \n",
        "  Imports the necessary libraries for data visualization. Seaborn is built on Matplotlib and provides a higher-level interface for creating attractive visualizations.\n",
        "\n",
        "- **Annual Count Analysis**:\n",
        "  - `df.groupby('releaseYear').size()`:  \n",
        "    Groups the Netflix titles by their release year and counts the number of titles in each group.\n",
        "  - `reset_index(name='count')`:  \n",
        "    Converts the Series to a DataFrame with columns 'releaseYear' and 'count'.\n",
        "  - The subsequent lines create a line plot showing how the number of Netflix titles has changed over time, with properly labeled axes and title.\n",
        "\n",
        "- **Annual Rating Analysis**:\n",
        "  - `df.groupby('releaseYear')['imdbAverageRating'].mean()`:  \n",
        "    Groups titles by release year and calculates the average IMDb rating for each year.\n",
        "  - `reset_index(name='avg_rating')`:  \n",
        "    Converts the result to a DataFrame with columns 'releaseYear' and 'avg_rating'.\n",
        "  - The plot visualizes how the average IMDb rating of Netflix content has trended over the years."
      ],
      "metadata": {
        "id": "BDs_bAq8LPjc"
      }
    },
    {
      "cell_type": "code",
      "source": [
        "import seaborn as sns\n",
        "import matplotlib.pyplot as plt\n",
        "\n",
        "# 2.1 Annual count of titles released\n",
        "annual_counts = df.groupby('releaseYear') \\\n",
        "    .size() \\\n",
        "    .reset_index(name='count')  # :contentReference[oaicite:3]{index=3}\n",
        "\n",
        "# Line plot of counts by year\n",
        "sns.lineplot(data=annual_counts, x='releaseYear', y='count')\n",
        "plt.title(\"Number of Netflix Titles Released per Year\")\n",
        "plt.xlabel(\"Release Year\")\n",
        "plt.ylabel(\"Count of Titles\")\n",
        "plt.show()\n",
        "\n",
        "# 2.2 Annual average IMDb rating\n",
        "annual_avg_rating = df.groupby('releaseYear')['imdbAverageRating'] \\\n",
        "    .mean() \\\n",
        "    .reset_index(name='avg_rating')  # :contentReference[oaicite:4]{index=4}\n",
        "\n",
        "# Line plot of average rating by year\n",
        "sns.lineplot(data=annual_avg_rating, x='releaseYear', y='avg_rating')\n",
        "plt.title(\"Average IMDb Rating by Release Year\")\n",
        "plt.xlabel(\"Release Year\")\n",
        "plt.ylabel(\"Average Rating\")\n",
        "plt.show()\n"
      ],
      "metadata": {
        "colab": {
          "base_uri": "https://localhost:8080/",
          "height": 927
        },
        "id": "A7vLSSL7LQYU",
        "outputId": "d8aec2d1-dbe8-471a-b523-78527a965088"
      },
      "execution_count": null,
      "outputs": [
        {
          "output_type": "display_data",
          "data": {
            "text/plain": [
              "<Figure size 640x480 with 1 Axes>"
            ],
            "image/png": "[encoded data removed]"
          },
          "metadata": {}
        },
        {
          "output_type": "display_data",
          "data": {
            "text/plain": [
              "<Figure size 640x480 with 1 Axes>"
            ],
            "image/png": "[encoded data removed]"
          },
          "metadata": {}
        }
      ]
    },
    {
      "cell_type": "markdown",
      "source": [
        "### 🌎 Step 12: Geographic Distribution Analysis of Netflix Content\n",
        "---\n",
        "\n",
        "```python\n",
        "import folium\n",
        "\n",
        "# 3.1 Explode the countries and count occurrences\n",
        "countries_exploded = (\n",
        "    df.assign(availableCountries=df['availableCountries'].str.split(','))\n",
        "      .explode('availableCountries')\n",
        ")\n",
        "\n",
        "# Remove whitespace around country names\n",
        "countries_exploded['availableCountries'] = countries_exploded['availableCountries'].str.strip()\n",
        "\n",
        "# Count appearances\n",
        "country_counts = (\n",
        "    countries_exploded['availableCountries']\n",
        "      .value_counts()\n",
        "      .reset_index()\n",
        ")\n",
        "\n",
        "# Rename columns\n",
        "country_counts.columns = ['country', 'count']\n",
        "\n",
        "# Print to verify\n",
        "print(country_counts.head())\n",
        "\n",
        "# 3.2 Create a Folium choropleth map\n",
        "m = folium.Map(location=[20, 0], zoom_start=2)\n",
        "\n",
        "# Use a publicly hosted GeoJSON of world countries\n",
        "world_geo = 'https://raw.githubusercontent.com/python-visualization/folium/master/examples/data/world-countries.json'\n",
        "\n",
        "# Choropleth layer\n",
        "folium.Choropleth(\n",
        "    geo_data=world_geo,\n",
        "    data=country_counts,\n",
        "    columns=['country', 'count'],\n",
        "    key_on='feature.properties.name',\n",
        "    fill_opacity=0.7,\n",
        "    line_opacity=0.2,\n",
        "    legend_name='Number of Netflix Titles'\n",
        ").add_to(m)\n",
        "\n",
        "# 3.3 Save the map\n",
        "m.save('netflix_titles_by_country.html')\n",
        "print(\"Choropleth map saved to 'netflix_titles_by_country.html'\")\n",
        "```\n",
        "\n",
        "**What this code does:**\n",
        "\n",
        "- **Data Preparation for Geographic Analysis**:\n",
        "  - `df.assign(availableCountries=df['availableCountries'].str.split(','))`:  \n",
        "    Creates a new DataFrame with the comma-separated country list split into arrays.\n",
        "  - `.explode('availableCountries')`:  \n",
        "    Transforms the DataFrame so each country gets its own row (one country per row instead of lists).\n",
        "  - `str.strip()`:  \n",
        "    Cleans the country names by removing any leading/trailing whitespace.\n",
        "  - `.value_counts()`:  \n",
        "    Counts how many Netflix titles are available in each country.\n",
        "  - `.reset_index()`:  \n",
        "    Converts the result to a DataFrame with index as a regular column.\n",
        "  - Renaming columns for clarity with `country_counts.columns = ['country', 'count']`.\n",
        "\n",
        "- **Creating an Interactive Map**:\n",
        "  - `folium.Map(location=[20, 0], zoom_start=2)`:  \n",
        "    Initializes a world map centered at coordinates [20, 0] with zoom level 2.\n",
        "  - Uses a standard GeoJSON file with world country boundaries from GitHub.\n",
        "  - `folium.Choropleth(...)`:  \n",
        "    Creates a choropleth map where countries are colored based on the number of Netflix titles available.\n",
        "    - `geo_data`: Source of geographical boundaries.\n",
        "    - `data`: The count data prepared earlier.\n",
        "    - `columns`: Specifies which columns contain the country names and values.\n",
        "    - `key_on`: Defines how to match country names in the data with geographical features.\n",
        "    - `fill_opacity` and `line_opacity`: Control the appearance of the map.\n",
        "\n",
        "- **Output**:\n",
        "  - `.save('netflix_titles_by_country.html')`:  \n",
        "    Exports the interactive map as an HTML file that can be opened in any web browser.\n",
        "  - The final print statement confirms the successful creation of the map.\n"
      ],
      "metadata": {
        "id": "y2Kqkg5xLWM7"
      }
    },
    {
      "cell_type": "code",
      "source": [
        "import folium\n",
        "\n",
        "# 3.1 Explode the countries and count occurrences\n",
        "countries_exploded = (\n",
        "    df.assign(availableCountries=df['availableCountries'].str.split(','))\n",
        "      .explode('availableCountries')\n",
        ")\n",
        "\n",
        "# Remove whitespace around country names\n",
        "countries_exploded['availableCountries'] = countries_exploded['availableCountries'].str.strip()\n",
        "\n",
        "# Count appearances\n",
        "country_counts = (\n",
        "    countries_exploded['availableCountries']\n",
        "      .value_counts()\n",
        "      .reset_index()\n",
        ")\n",
        "\n",
        "# Rename columns\n",
        "country_counts.columns = ['country', 'count']\n",
        "\n",
        "# Print to verify\n",
        "print(country_counts.head())\n",
        "\n",
        "# 3.2 Create a Folium choropleth map\n",
        "m = folium.Map(location=[20, 0], zoom_start=2)\n",
        "\n",
        "# Use a publicly hosted GeoJSON of world countries\n",
        "world_geo = 'https://raw.githubusercontent.com/python-visualization/folium/master/examples/data/world-countries.json'\n",
        "\n",
        "# Choropleth layer\n",
        "folium.Choropleth(\n",
        "    geo_data=world_geo,\n",
        "    data=country_counts,\n",
        "    columns=['country', 'count'],\n",
        "    key_on='feature.properties.name',\n",
        "    fill_opacity=0.7,\n",
        "    line_opacity=0.2,\n",
        "    legend_name='Number of Netflix Titles'\n",
        ").add_to(m)\n",
        "\n",
        "# 3.3 Save the map\n",
        "m.save('netflix_titles_by_country.html')\n",
        "print(\"Choropleth map saved to 'netflix_titles_by_country.html'\")\n"
      ],
      "metadata": {
        "colab": {
          "base_uri": "https://localhost:8080/"
        },
        "id": "N5gszOeoLXkv",
        "outputId": "b42cb922-357b-49a2-ee02-283a3c4429d5"
      },
      "execution_count": null,
      "outputs": [
        {
          "output_type": "stream",
          "name": "stdout",
          "text": [
            "  country  count\n",
            "0      PH     70\n",
            "1      ID     70\n",
            "2      TH     64\n",
            "3      MY     59\n",
            "4      SG     58\n",
            "Choropleth map saved to 'netflix_titles_by_country.html'\n"
          ]
        }
      ]
    },
    {
      "cell_type": "code",
      "source": [
        "from google.colab import files\n",
        "files.download('netflix_data.csv')\n"
      ],
      "metadata": {
        "colab": {
          "base_uri": "https://localhost:8080/",
          "height": 17
        },
        "id": "UMUnXF21FolV",
        "outputId": "055fb506-c14d-4c8f-c94b-fa181e7427cf"
      },
      "execution_count": null,
      "outputs": [
        {
          "output_type": "display_data",
          "data": {
            "text/plain": [
              "<IPython.core.display.Javascript object>"
            ],
            "application/javascript": [
              "\n",
              "    async function download(id, filename, size) {\n",
              "      if (!google.colab.kernel.accessAllowed) {\n",
              "        return;\n",
              "      }\n",
              "      const div = document.createElement('div');\n",
              "      const label = document.createElement('label');\n",
              "      label.textContent = `Downloading \"${filename}\": `;\n",
              "      div.appendChild(label);\n",
              "      const progress = document.createElement('progress');\n",
              "      progress.max = size;\n",
              "      div.appendChild(progress);\n",
              "      document.body.appendChild(div);\n",
              "\n",
              "      const buffers = [];\n",
              "      let downloaded = 0;\n",
              "\n",
              "      const channel = await google.colab.kernel.comms.open(id);\n",
              "      // Send a message to notify the kernel that we're ready.\n",
              "      channel.send({})\n",
              "\n",
              "      for await (const message of channel.messages) {\n",
              "        // Send a message to notify the kernel that we're ready.\n",
              "        channel.send({})\n",
              "        if (message.buffers) {\n",
              "          for (const buffer of message.buffers) {\n",
              "            buffers.push(buffer);\n",
              "            downloaded += buffer.byteLength;\n",
              "            progress.value = downloaded;\n",
              "          }\n",
              "        }\n",
              "      }\n",
              "      const blob = new Blob(buffers, {type: 'application/binary'});\n",
              "      const a = document.createElement('a');\n",
              "      a.href = window.URL.createObjectURL(blob);\n",
              "      a.download = filename;\n",
              "      div.appendChild(a);\n",
              "      a.click();\n",
              "      div.remove();\n",
              "    }\n",
              "  "
            ]
          },
          "metadata": {}
        },
        {
          "output_type": "display_data",
          "data": {
            "text/plain": [
              "<IPython.core.display.Javascript object>"
            ],
            "application/javascript": [
              "download(\"download_4a02170b-195d-42e8-8adc-6571fa43e9e2\", \"netflix_data.csv\", 1491266)"
            ]
          },
          "metadata": {}
        }
      ]
    }
  ]
}